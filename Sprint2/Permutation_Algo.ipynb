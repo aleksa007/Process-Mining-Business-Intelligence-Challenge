{
 "cells": [
  {
   "cell_type": "markdown",
   "metadata": {},
   "source": [
    "# Permutation algorithm, using combinations of two events"
   ]
  },
  {
   "cell_type": "code",
   "execution_count": 1,
   "metadata": {},
   "outputs": [],
   "source": [
    "import pandas as pd\n",
    "import matplotlib.pyplot as plt; plt.rcdefaults()\n",
    "import numpy as np\n",
    "import matplotlib.pyplot as plt\n",
    "import os\n",
    "import numpy\n",
    "import itertools\n",
    "from itertools import tee, combinations, permutations\n",
    "from progressbar import ProgressBar\n",
    "import datetime\n",
    "from sklearn.metrics import mean_squared_error, accuracy_score\n",
    "import time\n",
    "import calendar\n",
    "from statistics import median"
   ]
  },
  {
   "cell_type": "code",
   "execution_count": 2,
   "metadata": {},
   "outputs": [],
   "source": [
    "start_time = time.time()"
   ]
  },
  {
   "cell_type": "markdown",
   "metadata": {},
   "source": [
    "## Training"
   ]
  },
  {
   "cell_type": "code",
   "execution_count": 3,
   "metadata": {},
   "outputs": [],
   "source": [
    "data_train = pd.read_csv('./data/road-train.csv', error_bad_lines=False)\n",
    "data_test = pd.read_csv('./data/road-test.csv', error_bad_lines=False)"
   ]
  },
  {
   "cell_type": "code",
   "execution_count": null,
   "metadata": {},
   "outputs": [],
   "source": [
    "#Convert from string to datetime\n",
    "data_train['event time:timestamp'] = pd.to_datetime(data_train['event time:timestamp'])"
   ]
  },
  {
   "cell_type": "code",
   "execution_count": null,
   "metadata": {},
   "outputs": [],
   "source": [
    "data_train = data_train.sort_values(by=['case concept:name', 'event time:timestamp'])"
   ]
  },
  {
   "cell_type": "code",
   "execution_count": null,
   "metadata": {},
   "outputs": [],
   "source": [
    "data_train['day_of_week'] = data_train['event time:timestamp'].dt.dayofweek"
   ]
  },
  {
   "cell_type": "code",
   "execution_count": null,
   "metadata": {},
   "outputs": [],
   "source": [
    "data_train.to_csv(\"fixed.csv\")"
   ]
  },
  {
   "cell_type": "code",
   "execution_count": null,
   "metadata": {},
   "outputs": [],
   "source": [
    "file = open('fixed.csv', 'r')\n",
    "log = dict()\n",
    "\n",
    "for line in file:\n",
    "    line = line.strip()\n",
    "    if len(line) == 0:\n",
    "        continue\n",
    "    parts = line.split(',')\n",
    "    caseid = parts[2]\n",
    "    \n",
    "    task = parts[3]\n",
    "    timestamp = parts[5]\n",
    "    day = parts[6]\n",
    "    \n",
    "    if caseid not in log:\n",
    "        log[caseid] = [[],[],[]]\n",
    "\n",
    "    log[caseid][0].append(task)\n",
    "    log[caseid][1].append(timestamp)\n",
    "    log[caseid][2].append(day)\n",
    "\n",
    "file.close()"
   ]
  },
  {
   "cell_type": "markdown",
   "metadata": {},
   "source": [
    "### Event Prediction"
   ]
  },
  {
   "cell_type": "code",
   "execution_count": null,
   "metadata": {},
   "outputs": [],
   "source": [
    "def pairwise(iterable):\n",
    "    a, b = tee(iterable)\n",
    "    next(b, None)\n",
    "    return zip(a, b)"
   ]
  },
  {
   "cell_type": "code",
   "execution_count": null,
   "metadata": {},
   "outputs": [],
   "source": [
    "event_names = list(data_train['event concept:name'].unique())\n",
    "event_names.append('New Event')\n",
    "combs = []\n",
    "\n",
    "for p in itertools.product(event_names, repeat=2):\n",
    "    combs.append(p)"
   ]
  },
  {
   "cell_type": "code",
   "execution_count": null,
   "metadata": {},
   "outputs": [],
   "source": [
    "del log['case concept:name']\n",
    "\n",
    "pbar = ProgressBar()\n",
    "\n",
    "for i in pbar(log.keys()):\n",
    "    ID = []\n",
    "    stamps = []\n",
    "    for pairID, stamp in zip(pairwise(log[i][0]), pairwise(log[i][1])):\n",
    "        ID.append(pairID)\n",
    "        stamps.append(stamp)\n",
    "            \n",
    "    log[i].append(ID)\n",
    "    log[i].append(stamps)"
   ]
  },
  {
   "cell_type": "code",
   "execution_count": null,
   "metadata": {},
   "outputs": [],
   "source": [
    "pbar = ProgressBar()\n",
    "count=0\n",
    "\n",
    "for i in pbar(log.keys()):\n",
    "    count=0\n",
    "    for perm in log[i][3]:\n",
    "        index = log[i][3].index(perm)\n",
    "        if index == 0:\n",
    "            log[i][3].insert(0, ('New Event', log[i][3][index][0]))\n",
    "            \n",
    "    for count in range(len(log[i][4])):\n",
    "        stamp = log[i][4][count]\n",
    "        if count == 0:\n",
    "            log[i][4].insert(0, (stamp[0], stamp[0]))\n",
    "            \n",
    "        count += 1"
   ]
  },
  {
   "cell_type": "code",
   "execution_count": null,
   "metadata": {},
   "outputs": [],
   "source": [
    "def timeDiff(tupl):\n",
    "    \n",
    "    datetimeFormat = '%Y-%m-%d'\n",
    "    diff = datetime.datetime.strptime(tupl[0], datetimeFormat)\\\n",
    "    - datetime.datetime.strptime(tupl[1], datetimeFormat)\n",
    "    \n",
    "    return abs(diff.days)"
   ]
  },
  {
   "cell_type": "code",
   "execution_count": null,
   "metadata": {},
   "outputs": [],
   "source": [
    "def listCount(lst: list): \n",
    "    cases = list(data_train['event concept:name'].unique())  # list of all unique event names\n",
    "    cases.append('New Event')\n",
    "    best = 0\n",
    "    for x in cases:\n",
    "        current = lst.count(x)\n",
    "        if current >= best:\n",
    "            best = current\n",
    "            str_best = x\n",
    "    return str_best"
   ]
  },
  {
   "cell_type": "code",
   "execution_count": null,
   "metadata": {},
   "outputs": [],
   "source": [
    "pbar = ProgressBar() \n",
    "\n",
    "comb_times = {}\n",
    "\n",
    "for comb in pbar(combs):\n",
    "    day_list = [[], [], [], [], [], [], []]\n",
    "    \n",
    "    for case in log.keys():\n",
    "        if comb in log[case][3]:     \n",
    "            index = log[case][3].index(comb)\n",
    "            day = int(log[case][2][index])\n",
    "            \n",
    "            if index < (len(log[case][3]) - 1):\n",
    "                nxt_event = log[case][3][index+1][1]  # we need the second item of the tuple, bc item 1 is repeated\n",
    "                day_list[day].append(nxt_event)\n",
    "\n",
    "            elif index == (len(log[case][3]) - 1):\n",
    "                nxt_event = 'New Event'\n",
    "                day_list[day].append(nxt_event)\n",
    "\n",
    "        else:\n",
    "            pass\n",
    "        \n",
    "    comb_times[comb] = day_list\n",
    "    \n",
    "    for i in range(len(day_list)):\n",
    "        comb_times[comb][i] = listCount(comb_times[comb][i])\n",
    "    "
   ]
  },
  {
   "cell_type": "markdown",
   "metadata": {},
   "source": [
    "### Adding Predictions"
   ]
  },
  {
   "cell_type": "code",
   "execution_count": null,
   "metadata": {},
   "outputs": [],
   "source": [
    "pbar = ProgressBar()\n",
    "\n",
    "for i in pbar(log.keys()):\n",
    "# Add the real time differences\n",
    "    real_diff = []\n",
    "    for t in log[i][4]:\n",
    "        real_diff.append(timeDiff(t))\n",
    "    log[i].extend([real_diff])"
   ]
  },
  {
   "cell_type": "code",
   "execution_count": null,
   "metadata": {},
   "outputs": [],
   "source": [
    "\"\"\"Adding predictions based on the combination with respect to the week. \"\"\"\n",
    "\n",
    "for i in log.keys():\n",
    "    current = log[i][3]\n",
    "    prediction = []\n",
    "    \n",
    "    for perm in current:\n",
    "        index = current.index(perm)\n",
    "        day = int(log[i][2][index])\n",
    "        current_prediction = comb_times[perm][day]\n",
    "        \n",
    "        if current_prediction != 0:\n",
    "            prediction.append(current_prediction)\n",
    "        else:\n",
    "            merged_list = list(itertools.chain.from_iterable(comb_times[perm]))\n",
    "            pred = listCount(merged_list)\n",
    "            prediction.append(pred)\n",
    "\n",
    "    log[i].extend([prediction])\n",
    "    \n",
    "\n",
    "    current_real = []\n",
    "    \n",
    "    for x in log[i][0]:\n",
    "        if log[i][0].index(x) == 0:\n",
    "            current_real.append('New Event')\n",
    "        else:\n",
    "            current_real.append(x)\n",
    "    log[i].extend([current_real]) \n"
   ]
  },
  {
   "cell_type": "code",
   "execution_count": null,
   "metadata": {},
   "outputs": [],
   "source": [
    "\"\"\"Storing all time differences for every combination.\"\"\"\n",
    "\n",
    "pbar = ProgressBar()\n",
    "\n",
    "times = {}\n",
    "for comb in pbar(combs):\n",
    "    for case in log.keys():\n",
    "        if comb in log[case][3]:\n",
    "            count = log[case][3].index(comb)\n",
    "            diff = timeDiff(log[case][4][count])\n",
    "            if comb not in times:\n",
    "                times[comb] = []\n",
    "                times[comb].append(diff)\n",
    "            else:\n",
    "                times[comb].append(diff)\n",
    "        else:\n",
    "            pass\n",
    "    if comb in times.keys():\n",
    "        times[comb] = int(np.ceil(np.mean(times[comb])))"
   ]
  },
  {
   "cell_type": "code",
   "execution_count": null,
   "metadata": {},
   "outputs": [],
   "source": [
    "\"\"\"Prediction for time difference, we check whether event is last and then predict 0 for it!\"\"\"\n",
    "for i in log.keys():\n",
    "    time_pred = []\n",
    "    for ev, pred, day in zip(log[i][0], log[i][6], log[i][2]):\n",
    "        last = len(log[i][0]) - 1\n",
    "        \n",
    "        if log[i][0].index(ev) == last:\n",
    "            time_pred.append(0)\n",
    "        elif pred == 'New Event':\n",
    "            time_pred.append(0)\n",
    "        elif (ev, pred) in times:\n",
    "            if int(day) + times[(ev,pred)] % 7 == 5:\n",
    "                time_pred.append(times[(ev,pred)] + 2)\n",
    "            elif int(day) + times[(ev,pred)] % 7 == 6:\n",
    "                time_pred.append(times[(ev,pred)] + 1)\n",
    "            else:\n",
    "                time_pred.append(times[(ev,pred)])\n",
    "\n",
    "    log[i].extend([time_pred])"
   ]
  },
  {
   "cell_type": "code",
   "execution_count": null,
   "metadata": {},
   "outputs": [],
   "source": [
    "case_names = [] \n",
    "event_names = []\n",
    "timestamp = []\n",
    "p_event = []\n",
    "current_real = []\n",
    "\n",
    "real_diff = []\n",
    "pred_diff = []\n",
    "\n",
    "for i in log.keys():\n",
    "    for x in range(len(log[i][0])):\n",
    "        case_names.append(i)\n",
    "        event_names.append(log[i][0][x])\n",
    "        timestamp.append(log[i][1][x])\n",
    "        p_event.append(log[i][6][x])\n",
    "        current_real.append(log[i][7][x])\n",
    "        \n",
    "        real_diff.append(log[i][5][x])\n",
    "        pred_diff.append(log[i][8][x])\n",
    "\n",
    "real_diff.append(0)\n",
    "        \n",
    "frame_dict = {'Case_ID': case_names, 'Event_Name': event_names,\n",
    "              'TimeStamp': timestamp, 'Current_Event': current_real, 'Predicted_Event': p_event,\n",
    "            'Real_Diff': real_diff[1:], 'Predicted_Diff': pred_diff}\n",
    "predicted_df = pd.DataFrame.from_dict(frame_dict)\n"
   ]
  },
  {
   "cell_type": "code",
   "execution_count": null,
   "metadata": {},
   "outputs": [],
   "source": [
    "predicted_df.head(10)"
   ]
  },
  {
   "cell_type": "markdown",
   "metadata": {},
   "source": [
    "### Evaluation"
   ]
  },
  {
   "cell_type": "code",
   "execution_count": null,
   "metadata": {},
   "outputs": [],
   "source": [
    "event_real = np.array(predicted_df['Current_Event'])\n",
    "event_pred = np.array(predicted_df['Predicted_Event'])\n",
    "event_real = event_real[1:]\n",
    "event_pred = event_pred[:-1]\n",
    "\n",
    "acc = accuracy_score(event_real, event_pred)\n",
    "print('Accuracy for event prediction TRAIN SET: {}%'.format(round(acc,2)*100))"
   ]
  },
  {
   "cell_type": "code",
   "execution_count": null,
   "metadata": {
    "scrolled": true
   },
   "outputs": [],
   "source": [
    "time_real = np.array(predicted_df['Real_Diff'])\n",
    "time_pred = np.array(predicted_df['Predicted_Diff'])\n",
    "\n",
    "time_pred = time_pred\n",
    "time_real = time_real\n",
    "\n",
    "rms = np.sqrt(mean_squared_error(time_real, time_pred))\n",
    "print('Root mean squared error for time difference prediction TRAIN SET: {}'.format(round(rms,2)))"
   ]
  },
  {
   "cell_type": "markdown",
   "metadata": {},
   "source": [
    "## Test"
   ]
  },
  {
   "cell_type": "code",
   "execution_count": null,
   "metadata": {},
   "outputs": [],
   "source": [
    "#Convert from string to datetime\n",
    "data_test['event time:timestamp'] = pd.to_datetime(data_test['event time:timestamp'])\n",
    "\n",
    "#Convert from string to datetime\n",
    "data_test['event time:timestamp'] = pd.to_datetime(data_test['event time:timestamp'])\n",
    "\n",
    "data_test = data_test.sort_values(by=['case concept:name', 'event time:timestamp'])\n",
    "\n",
    "data_test['day_of_week'] = data_test['event time:timestamp'].dt.dayofweek\n",
    "\n",
    "data_test.to_csv(\"fixed_test.csv\")"
   ]
  },
  {
   "cell_type": "code",
   "execution_count": null,
   "metadata": {},
   "outputs": [],
   "source": [
    "file_test = open('fixed_test.csv', 'r')\n",
    "t_log = dict()\n",
    "\n",
    "for line in file_test:\n",
    "    line = line.strip()\n",
    "    if len(line) == 0:\n",
    "        continue\n",
    "    parts = line.split(',')\n",
    "    \n",
    "    caseid = parts[2]\n",
    "    \n",
    "    task = parts[3]\n",
    "    timestamp = parts[5]\n",
    "    day = parts[6]\n",
    "    \n",
    "    if caseid not in t_log:\n",
    "        t_log[caseid] = [[],[],[]]\n",
    "\n",
    "    t_log[caseid][0].append(task)\n",
    "    t_log[caseid][1].append(timestamp)\n",
    "    t_log[caseid][2].append(day)\n",
    "    #print(t_log[caseid])\n",
    "file.close()\n",
    "\n",
    "del t_log['case concept:name']"
   ]
  },
  {
   "cell_type": "markdown",
   "metadata": {},
   "source": [
    "### Test prediction"
   ]
  },
  {
   "cell_type": "code",
   "execution_count": null,
   "metadata": {
    "scrolled": true
   },
   "outputs": [],
   "source": [
    "pbar = ProgressBar()\n",
    "\n",
    "for i in pbar(t_log.keys()):\n",
    "    ID = []\n",
    "    stamps = []\n",
    "    for pairID, stamp in zip(pairwise(t_log[i][0]), pairwise(t_log[i][1])):\n",
    "        ID.append(pairID)\n",
    "        stamps.append(stamp)\n",
    "\n",
    "    t_log[i].append(ID)\n",
    "    t_log[i].append(stamps)\n",
    "\n",
    "pbar = ProgressBar()\n",
    "count = 0\n",
    "\n",
    "for i in pbar(t_log.keys()):\n",
    "    count = 0\n",
    "    for perm in t_log[i][3]:\n",
    "        index = t_log[i][3].index(perm)\n",
    "        if index == 0:\n",
    "            t_log[i][3].insert(0, ('New Event', t_log[i][3][index][0]))\n",
    "\n",
    "    for count in range(len(t_log[i][4])):\n",
    "        stamp = t_log[i][4][count]\n",
    "        if count == 0:\n",
    "            t_log[i][4].insert(0, (stamp[0], stamp[0]))\n",
    "\n",
    "        count += 1\n",
    "\n",
    "pbar = ProgressBar()\n",
    "\n",
    "for i in pbar(t_log.keys()):\n",
    "    # Add the real time differences\n",
    "    real_diff = []\n",
    "    for t in t_log[i][4]:\n",
    "        real_diff.append(timeDiff(t))\n",
    "    t_log[i].extend([real_diff])\n",
    "\n",
    "\"\"\"Adding predictions based on the combination with respect to the week. \"\"\"\n",
    "\n",
    "for i in t_log.keys():\n",
    "    current = t_log[i][3]\n",
    "    prediction = []\n",
    "\n",
    "    for perm in current:\n",
    "        index = current.index(perm)\n",
    "        day = int(t_log[i][2][index])\n",
    "        current_prediction = comb_times[perm][day]\n",
    "\n",
    "        if current_prediction != 0:\n",
    "            prediction.append(current_prediction)\n",
    "        else:\n",
    "            merged_list = list(itertools.chain.from_iterable(comb_times[perm]))\n",
    "            pred = listCount(merged_list)\n",
    "            prediction.append(pred)\n",
    "\n",
    "    t_log[i].extend([prediction])\n",
    "\n",
    "    current_real = []\n",
    "\n",
    "    for x in t_log[i][0]:\n",
    "        if t_log[i][0].index(x) == 0:\n",
    "            current_real.append('New Event')\n",
    "        else:\n",
    "            current_real.append(x)\n",
    "    t_log[i].extend([current_real])\n",
    "\n",
    "\"\"\"Prediction for time difference, we check whether event is last and then predict 0 for it!\"\"\"\n",
    "for i in t_log.keys():\n",
    "    time_pred = []\n",
    "    for ev, pred, day in zip(t_log[i][0], t_log[i][6], t_log[i][2]):\n",
    "        last = len(t_log[i][0]) - 1\n",
    "\n",
    "        if t_log[i][0].index(ev) == last:\n",
    "            time_pred.append(0)\n",
    "        elif pred == 'New Event':\n",
    "            time_pred.append(0)\n",
    "        elif (ev, pred) in times:\n",
    "            if int(day) + times[(ev, pred)] % 7 == 5:\n",
    "                time_pred.append(times[(ev, pred)] + 2)\n",
    "            elif int(day) + times[(ev, pred)] % 7 == 6:\n",
    "                time_pred.append(times[(ev, pred)] + 1)\n",
    "            else:\n",
    "                time_pred.append(times[(ev, pred)])\n",
    "\n",
    "    t_log[i].extend([time_pred])\n",
    "\n",
    "case_names = []\n",
    "event_names = []\n",
    "timestamp = []\n",
    "p_event = []\n",
    "current_real = []\n",
    "\n",
    "real_diff = []\n",
    "pred_diff = []\n",
    "\n",
    "for i in t_log.keys():\n",
    "    for x in range(len(t_log[i][0])):\n",
    "        case_names.append(i)\n",
    "        event_names.append(t_log[i][0][x])\n",
    "        timestamp.append(t_log[i][1][x])\n",
    "        p_event.append(t_log[i][6][x])\n",
    "        current_real.append(t_log[i][7][x])\n",
    "\n",
    "        real_diff.append(t_log[i][5][x])\n",
    "        pred_diff.append(t_log[i][8][x])\n",
    "\n",
    "real_diff.append(0)\n",
    "\n",
    "frame_dict = {'Case_ID': case_names, 'Event_Name': event_names,\n",
    "              'TimeStamp': timestamp, 'Current_Event': current_real, 'Predicted_Event': p_event,\n",
    "              'Real_Diff': real_diff[1:], 'Predicted_Diff': pred_diff}\n",
    "predicted_df = pd.DataFrame.from_dict(frame_dict)\n",
    "\n",
    "event_real = np.array(predicted_df['Current_Event'])\n",
    "event_pred = np.array(predicted_df['Predicted_Event'])\n",
    "event_real = event_real[1:]\n",
    "event_pred = event_pred[:-1]\n",
    "\n",
    "acc = accuracy_score(event_real, event_pred)\n",
    "print('Accuracy for event prediction TEST SET: {}%'.format(round(acc, 2) * 100))\n",
    "\n",
    "time_real = np.array(predicted_df['Real_Diff'])\n",
    "time_pred = np.array(predicted_df['Predicted_Diff'])\n",
    "\n",
    "time_pred = time_pred\n",
    "time_real = time_real\n",
    "\n",
    "rms = np.sqrt(mean_squared_error(time_real, time_pred))\n",
    "print('Root mean squared error for time difference prediction TEST SET: {}'.format(round(rms, 2)))"
   ]
  },
  {
   "cell_type": "code",
   "execution_count": null,
   "metadata": {},
   "outputs": [],
   "source": [
    "print(\"--- %s seconds ---\" % (time.time() - start_time))"
   ]
  }
 ],
 "metadata": {
  "kernelspec": {
   "display_name": "Python 3",
   "language": "python",
   "name": "python3"
  },
  "language_info": {
   "codemirror_mode": {
    "name": "ipython",
    "version": 3
   },
   "file_extension": ".py",
   "mimetype": "text/x-python",
   "name": "python",
   "nbconvert_exporter": "python",
   "pygments_lexer": "ipython3",
   "version": "3.7.3"
  }
 },
 "nbformat": 4,
 "nbformat_minor": 4
}
