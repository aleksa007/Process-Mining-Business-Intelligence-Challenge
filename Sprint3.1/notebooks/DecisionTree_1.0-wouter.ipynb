{
 "cells": [
  {
   "cell_type": "markdown",
   "metadata": {},
   "source": [
    "# Decision Trees for predicting the next event of a case\n",
    "\n",
    "Currently the only tree that works is for position 0. \n",
    "\n",
    "Issues occur for the other positions because the x_train and y_train have different length.\n"
   ]
  },
  {
   "cell_type": "code",
   "execution_count": 1,
   "metadata": {},
   "outputs": [],
   "source": [
    "import os\n",
    "import pandas as pd\n",
    "from sklearn.tree import DecisionTreeClassifier\n",
    "from sklearn import preprocessing\n",
    "from sklearn.metrics import mean_squared_error, accuracy_score"
   ]
  },
  {
   "cell_type": "code",
   "execution_count": 2,
   "metadata": {},
   "outputs": [],
   "source": [
    "os.chdir(\"../\")"
   ]
  },
  {
   "cell_type": "code",
   "execution_count": 3,
   "metadata": {},
   "outputs": [],
   "source": [
    "data_train = pd.read_csv('data/road-train-pre.csv', error_bad_lines=False)\n",
    "data_test = pd.read_csv('data/road-test-pre.csv', error_bad_lines=False)"
   ]
  },
  {
   "cell_type": "code",
   "execution_count": 4,
   "metadata": {},
   "outputs": [],
   "source": [
    "data_train['event time:timestamp'] = pd.to_datetime(data_train['event time:timestamp'])\n",
    "data_train = data_train.sort_values(by=['case concept:name', 'event time:timestamp'])"
   ]
  },
  {
   "cell_type": "code",
   "execution_count": 5,
   "metadata": {},
   "outputs": [],
   "source": [
    "data_test['event time:timestamp'] = pd.to_datetime(data_test['event time:timestamp'])\n",
    "data_test = data_test.sort_values(by=['case concept:name', 'event time:timestamp'])"
   ]
  },
  {
   "cell_type": "code",
   "execution_count": 6,
   "metadata": {},
   "outputs": [
    {
     "data": {
      "text/html": [
       "<div>\n",
       "<style scoped>\n",
       "    .dataframe tbody tr th:only-of-type {\n",
       "        vertical-align: middle;\n",
       "    }\n",
       "\n",
       "    .dataframe tbody tr th {\n",
       "        vertical-align: top;\n",
       "    }\n",
       "\n",
       "    .dataframe thead th {\n",
       "        text-align: right;\n",
       "    }\n",
       "</style>\n",
       "<table border=\"1\" class=\"dataframe\">\n",
       "  <thead>\n",
       "    <tr style=\"text-align: right;\">\n",
       "      <th></th>\n",
       "      <th>eventID</th>\n",
       "      <th>case concept:name</th>\n",
       "      <th>event concept:name</th>\n",
       "      <th>event lifecycle:transition</th>\n",
       "      <th>event time:timestamp</th>\n",
       "    </tr>\n",
       "  </thead>\n",
       "  <tbody>\n",
       "    <tr>\n",
       "      <th>295268</th>\n",
       "      <td>1</td>\n",
       "      <td>A1</td>\n",
       "      <td>Send Fine</td>\n",
       "      <td>complete</td>\n",
       "      <td>2006-05-12</td>\n",
       "    </tr>\n",
       "    <tr>\n",
       "      <th>303702</th>\n",
       "      <td>0</td>\n",
       "      <td>A1</td>\n",
       "      <td>Create Fine</td>\n",
       "      <td>complete</td>\n",
       "      <td>2006-07-24</td>\n",
       "    </tr>\n",
       "    <tr>\n",
       "      <th>275275</th>\n",
       "      <td>4294967296</td>\n",
       "      <td>A100</td>\n",
       "      <td>Create Fine</td>\n",
       "      <td>complete</td>\n",
       "      <td>2006-02-08</td>\n",
       "    </tr>\n",
       "    <tr>\n",
       "      <th>321904</th>\n",
       "      <td>4294967297</td>\n",
       "      <td>A100</td>\n",
       "      <td>Send Fine</td>\n",
       "      <td>complete</td>\n",
       "      <td>2006-12-12</td>\n",
       "    </tr>\n",
       "    <tr>\n",
       "      <th>328419</th>\n",
       "      <td>4294967298</td>\n",
       "      <td>A100</td>\n",
       "      <td>Insert Fine Notification</td>\n",
       "      <td>complete</td>\n",
       "      <td>2007-01-15</td>\n",
       "    </tr>\n",
       "  </tbody>\n",
       "</table>\n",
       "</div>"
      ],
      "text/plain": [
       "          eventID  case concept:name        event concept:name  \\\n",
       "295268           1                A1                 Send Fine   \n",
       "303702           0                A1               Create Fine   \n",
       "275275  4294967296              A100               Create Fine   \n",
       "321904  4294967297              A100                 Send Fine   \n",
       "328419  4294967298              A100  Insert Fine Notification   \n",
       "\n",
       "       event lifecycle:transition event time:timestamp  \n",
       "295268                   complete           2006-05-12  \n",
       "303702                   complete           2006-07-24  \n",
       "275275                   complete           2006-02-08  \n",
       "321904                   complete           2006-12-12  \n",
       "328419                   complete           2007-01-15  "
      ]
     },
     "execution_count": 6,
     "metadata": {},
     "output_type": "execute_result"
    }
   ],
   "source": [
    "data_train.head()"
   ]
  },
  {
   "cell_type": "markdown",
   "metadata": {},
   "source": [
    "# Train Data"
   ]
  },
  {
   "cell_type": "code",
   "execution_count": 7,
   "metadata": {},
   "outputs": [],
   "source": [
    "data_train.to_csv(\"fixed.csv\")\n",
    "\n",
    "file = open('fixed.csv', 'r')\n",
    "log = dict()\n",
    "with open('fixed.csv', 'r') as file:\n",
    "    next(file)\n",
    "    for line in file:\n",
    "        line = line.strip()\n",
    "        if len(line) == 0:\n",
    "            continue\n",
    "        parts = line.split(',')\n",
    "        caseid = parts[2]\n",
    "\n",
    "        task = parts[3]\n",
    "        timestamp = parts[5]\n",
    "\n",
    "        if caseid not in log:\n",
    "            log[caseid] = [[],[]]\n",
    "\n",
    "        log[caseid][0].append(task)\n",
    "        log[caseid][1].append(timestamp)\n",
    "        \n",
    "file.close()\n",
    "\n",
    "os.remove('fixed.csv')"
   ]
  },
  {
   "cell_type": "code",
   "execution_count": 8,
   "metadata": {},
   "outputs": [],
   "source": [
    "for i in log.keys():\n",
    "    current = log[i][0]  # recording the current case' events\n",
    "    \n",
    "    real_next = current[1:]  # next real event\n",
    "    real_next.append('New Case')  # adding a 'new case' as real next event for every last event\n",
    "    \n",
    "    log[i].append(real_next)  # adding the real next events to the log file"
   ]
  },
  {
   "cell_type": "markdown",
   "metadata": {},
   "source": [
    "# Test Data"
   ]
  },
  {
   "cell_type": "code",
   "execution_count": 9,
   "metadata": {},
   "outputs": [],
   "source": [
    "data_test.to_csv(\"fixed_test.csv\")\n",
    "\n",
    "file = open('fixed_test.csv', 'r')\n",
    "log_test = dict()\n",
    "with open('fixed_test.csv', 'r') as file:\n",
    "    next(file)\n",
    "    for line in file:\n",
    "        line = line.strip()\n",
    "        if len(line) == 0:\n",
    "            continue\n",
    "        parts = line.split(',')\n",
    "        caseid = parts[2]\n",
    "        \n",
    "        task = parts[3]\n",
    "        timestamp = parts[5]\n",
    "\n",
    "        if caseid not in log_test:\n",
    "            log_test[caseid] = [[],[]]\n",
    "\n",
    "        log_test[caseid][0].append(task)\n",
    "        log_test[caseid][1].append(timestamp)\n",
    "        \n",
    "file.close()\n",
    "\n",
    "os.remove('fixed_test.csv')"
   ]
  },
  {
   "cell_type": "code",
   "execution_count": 10,
   "metadata": {},
   "outputs": [],
   "source": [
    "\"\"\"Fixing a bug of cases that are in the test data but are incomplete due to the train-test split.\"\"\"\n",
    "\n",
    "bugs = []\n",
    "\n",
    "for i in log_test.keys():\n",
    "    if len(log_test[i][0]) == 1:\n",
    "        bugs.append(i)\n",
    "            \n",
    "for x in bugs:\n",
    "    del log_test[x]"
   ]
  },
  {
   "cell_type": "code",
   "execution_count": 11,
   "metadata": {},
   "outputs": [],
   "source": [
    "for i in log_test.keys():\n",
    "    current = log_test[i][0]  # recording the current case' events\n",
    "    \n",
    "    real_next = current[1:]  # next real event\n",
    "    real_next.append('New Case')  # adding a 'new case' as real next event for every last event\n",
    "    if len(current) != len(real_next):\n",
    "        print('Different length')\n",
    "    log_test[i].append(real_next) "
   ]
  },
  {
   "cell_type": "markdown",
   "metadata": {},
   "source": [
    "# Decision trees for every position"
   ]
  },
  {
   "cell_type": "code",
   "execution_count": 12,
   "metadata": {},
   "outputs": [],
   "source": [
    "event_list = []  # list of lists that contains all event names for every case, where each sublist is a new case.\n",
    "\n",
    "for case in log.keys():\n",
    "    event_list.append((log[case][0]))\n",
    "\n",
    "events_longest_event = max(map(len,event_list))  # longest case\n",
    "\n",
    "#Add a last event for every case, named: New Case\n",
    "for i in range(len(event_list)):\n",
    "    if len(event_list[i])<events_longest_event:\n",
    "        event_list[i].append('New Case')\n",
    "\n",
    "        \n",
    "pos_events = []  # list of lists which has all event names for every position, where each sublist is a new position\n",
    "for i in range(events_longest_event):  # creates a list every iteration which is appended to the above list\n",
    "    pos_events.append([])\n",
    "    for case in event_list:\n",
    "        if (len(case)-1) >= i:\n",
    "            pos_events[i].append(case[i])\n",
    "        else:\n",
    "            pass"
   ]
  },
  {
   "cell_type": "code",
   "execution_count": 13,
   "metadata": {},
   "outputs": [],
   "source": [
    "#count for every position most frequent value\n",
    "from collections import Counter \n",
    "  \n",
    "def most_frequent(List): \n",
    "    occurence_count = Counter(List) \n",
    "    return occurence_count.most_common(1)[0][0] \n",
    "most_likely = []\n",
    "for i in range(events_longest_event):\n",
    "    most_likely.append(most_frequent(pos_events[i]))"
   ]
  },
  {
   "cell_type": "code",
   "execution_count": 14,
   "metadata": {},
   "outputs": [],
   "source": [
    "#give every case a length of 17, by adding most frequent event\n",
    "for i in range(len(event_list)):\n",
    "    if len(event_list[i])<events_longest_event:\n",
    "        length = len(event_list[i])\n",
    "        event_list[i].extend(most_likely[length:])"
   ]
  },
  {
   "cell_type": "code",
   "execution_count": 15,
   "metadata": {},
   "outputs": [],
   "source": [
    "pos_events = []  # list of lists which has all event names for every position, where each sublist is a new position\n",
    "for i in range(events_longest_event):  # creates a list every iteration which is appended to the above list\n",
    "    pos_events.append([])\n",
    "    for case in event_list:\n",
    "        if (len(case)-1) >= i:\n",
    "            pos_events[i].append(case[i])\n",
    "        else:\n",
    "            pass"
   ]
  },
  {
   "cell_type": "code",
   "execution_count": 16,
   "metadata": {},
   "outputs": [],
   "source": [
    "event_list_test = []  # list of lists that contains all event names for every case, where each sublist is a new case.\n",
    "for case in log_test.keys():\n",
    "    event_list_test.append((log_test[case][0]))\n",
    "\n",
    "\n",
    "events_longest_event_test = max(map(len,event_list_test))  # longest case\n",
    "\n",
    "for i in range(len(event_list_test)):\n",
    "    if len(event_list_test[i])<events_longest_event_test:\n",
    "        event_list_test[i].append('New Case') \n",
    "    \n",
    "pos_events_test = []  # list of lists which has all event names for every position, where each sublist is a new position\n",
    "for i in range(events_longest_event_test):  # creates a list every iteration which is appended to the above list\n",
    "    pos_events_test.append([])\n",
    "    for case in event_list_test:\n",
    "        if (len(case)-1) >= i:\n",
    "            pos_events_test[i].append(case[i])\n",
    "        else:\n",
    "            pass\n",
    "        "
   ]
  },
  {
   "cell_type": "markdown",
   "metadata": {},
   "source": [
    "# Decision Tree Prediction\n"
   ]
  },
  {
   "cell_type": "code",
   "execution_count": 17,
   "metadata": {},
   "outputs": [
    {
     "data": {
      "text/plain": [
       "LabelEncoder()"
      ]
     },
     "execution_count": 17,
     "metadata": {},
     "output_type": "execute_result"
    }
   ],
   "source": [
    "cases = list(data_train['event concept:name'].unique())\n",
    "cases.append('New Case')# list of all unique event names\n",
    "le = preprocessing.LabelEncoder()\n",
    "le.fit(cases)  # encoding all event names into integers"
   ]
  },
  {
   "cell_type": "code",
   "execution_count": 18,
   "metadata": {},
   "outputs": [],
   "source": [
    "def decision_tree(event, pos):\n",
    "\n",
    "    x_train= le.transform(pos_events[pos]).reshape(-1, 1)\n",
    "    y_train= le.transform(pos_events[pos+1]).reshape(-1, 1)\n",
    "\n",
    "    x_test= le.transform(pos_events_test[pos]).reshape(-1, 1)\n",
    "    y_test= le.transform(pos_events_test[pos+1]).reshape(-1, 1)\n",
    "    \n",
    "    classifier = DecisionTreeClassifier()\n",
    "    classifier.fit(x_train, y_train)\n",
    "    \n",
    "    prediction = classifier.predict(event)\n",
    "    return le.inverse_transform(prediction)  # changing the predicted integer back to event name"
   ]
  },
  {
   "cell_type": "code",
   "execution_count": 19,
   "metadata": {},
   "outputs": [],
   "source": [
    "# test = ['Payment']\n",
    "# test= le.transform(test).reshape(-1, 1)"
   ]
  },
  {
   "cell_type": "code",
   "execution_count": null,
   "metadata": {},
   "outputs": [],
   "source": []
  },
  {
   "cell_type": "code",
   "execution_count": 20,
   "metadata": {},
   "outputs": [],
   "source": [
    "event = pos_events_test[1]\n",
    "event = le.transform(event).reshape(-1, 1)"
   ]
  },
  {
   "cell_type": "code",
   "execution_count": 21,
   "metadata": {},
   "outputs": [],
   "source": [
    "prediction = decision_tree(event, 1).reshape(-1,1)"
   ]
  },
  {
   "cell_type": "code",
   "execution_count": 22,
   "metadata": {},
   "outputs": [],
   "source": [
    "# x_train= le.transform(pos_events[1]).reshape(-1, 1)\n",
    "# y_train= le.transform(pos_events[1+1]).reshape(-1, 1)\n",
    "\n",
    "# x_test= le.transform(pos_events_test[0]).reshape(-1, 1)\n",
    "# y_test= le.transform(pos_events_test[0+1]).reshape(-1, 1)\n",
    "    \n",
    "# classifier = DecisionTreeClassifier()\n",
    "# classifier.fit(x_train, y_train)\n",
    "    \n",
    "# prediction = classifier.predict(event)"
   ]
  },
  {
   "cell_type": "code",
   "execution_count": 23,
   "metadata": {},
   "outputs": [],
   "source": [
    "real_event = pos_events_test[2]\n",
    "#real_event = le.transform(real_event).reshape(-1, 1)"
   ]
  },
  {
   "cell_type": "code",
   "execution_count": 24,
   "metadata": {},
   "outputs": [],
   "source": [
    "from sklearn.metrics import accuracy_score\n",
    "acc = accuracy_score(real_event[1:], prediction[:-1])"
   ]
  },
  {
   "cell_type": "code",
   "execution_count": 25,
   "metadata": {},
   "outputs": [
    {
     "data": {
      "text/plain": [
       "0.4253332861840942"
      ]
     },
     "execution_count": 25,
     "metadata": {},
     "output_type": "execute_result"
    }
   ],
   "source": [
    "acc"
   ]
  },
  {
   "cell_type": "code",
   "execution_count": null,
   "metadata": {},
   "outputs": [],
   "source": []
  }
 ],
 "metadata": {
  "kernelspec": {
   "display_name": "Python 3",
   "language": "python",
   "name": "python3"
  },
  "language_info": {
   "codemirror_mode": {
    "name": "ipython",
    "version": 3
   },
   "file_extension": ".py",
   "mimetype": "text/x-python",
   "name": "python",
   "nbconvert_exporter": "python",
   "pygments_lexer": "ipython3",
   "version": "3.6.9"
  }
 },
 "nbformat": 4,
 "nbformat_minor": 4
}
