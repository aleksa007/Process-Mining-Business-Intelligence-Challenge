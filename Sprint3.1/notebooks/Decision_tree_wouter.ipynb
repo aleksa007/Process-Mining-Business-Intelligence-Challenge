{
 "cells": [
  {
   "cell_type": "code",
   "execution_count": 2,
   "metadata": {},
   "outputs": [],
   "source": [
    "import os\n",
    "import pandas as pd\n",
    "import numpy as np\n",
    "import matplotlib.pyplot as plt\n",
    "from sklearn.tree import DecisionTreeClassifier\n",
    "from sklearn import preprocessing\n",
    "from sklearn.metrics import mean_squared_error, accuracy_score"
   ]
  },
  {
   "cell_type": "code",
   "execution_count": 3,
   "metadata": {},
   "outputs": [],
   "source": [
    "os.chdir(\"../\")"
   ]
  },
  {
   "cell_type": "code",
   "execution_count": 4,
   "metadata": {},
   "outputs": [
    {
     "ename": "FileNotFoundError",
     "evalue": "[Errno 2] File ./data/road-train-pre.csv does not exist: './data/road-train-pre.csv'",
     "output_type": "error",
     "traceback": [
      "\u001b[1;31m---------------------------------------------------------------------------\u001b[0m",
      "\u001b[1;31mFileNotFoundError\u001b[0m                         Traceback (most recent call last)",
      "\u001b[1;32m<ipython-input-4-9250fdee53c0>\u001b[0m in \u001b[0;36m<module>\u001b[1;34m\u001b[0m\n\u001b[1;32m----> 1\u001b[1;33m \u001b[0mdata_train\u001b[0m \u001b[1;33m=\u001b[0m \u001b[0mpd\u001b[0m\u001b[1;33m.\u001b[0m\u001b[0mread_csv\u001b[0m\u001b[1;33m(\u001b[0m\u001b[1;34m'./data/road-train-pre.csv'\u001b[0m\u001b[1;33m,\u001b[0m \u001b[0merror_bad_lines\u001b[0m\u001b[1;33m=\u001b[0m\u001b[1;32mFalse\u001b[0m\u001b[1;33m)\u001b[0m\u001b[1;33m\u001b[0m\u001b[1;33m\u001b[0m\u001b[0m\n\u001b[0m\u001b[0;32m      2\u001b[0m \u001b[0mdata_test\u001b[0m \u001b[1;33m=\u001b[0m \u001b[0mpd\u001b[0m\u001b[1;33m.\u001b[0m\u001b[0mread_csv\u001b[0m\u001b[1;33m(\u001b[0m\u001b[1;34m'./data/road-test-pre.csv'\u001b[0m\u001b[1;33m,\u001b[0m \u001b[0merror_bad_lines\u001b[0m\u001b[1;33m=\u001b[0m\u001b[1;32mFalse\u001b[0m\u001b[1;33m)\u001b[0m\u001b[1;33m\u001b[0m\u001b[1;33m\u001b[0m\u001b[0m\n",
      "\u001b[1;32m~\\AppData\\Local\\Continuum\\anaconda3\\lib\\site-packages\\pandas\\io\\parsers.py\u001b[0m in \u001b[0;36mparser_f\u001b[1;34m(filepath_or_buffer, sep, delimiter, header, names, index_col, usecols, squeeze, prefix, mangle_dupe_cols, dtype, engine, converters, true_values, false_values, skipinitialspace, skiprows, skipfooter, nrows, na_values, keep_default_na, na_filter, verbose, skip_blank_lines, parse_dates, infer_datetime_format, keep_date_col, date_parser, dayfirst, cache_dates, iterator, chunksize, compression, thousands, decimal, lineterminator, quotechar, quoting, doublequote, escapechar, comment, encoding, dialect, error_bad_lines, warn_bad_lines, delim_whitespace, low_memory, memory_map, float_precision)\u001b[0m\n\u001b[0;32m    674\u001b[0m         )\n\u001b[0;32m    675\u001b[0m \u001b[1;33m\u001b[0m\u001b[0m\n\u001b[1;32m--> 676\u001b[1;33m         \u001b[1;32mreturn\u001b[0m \u001b[0m_read\u001b[0m\u001b[1;33m(\u001b[0m\u001b[0mfilepath_or_buffer\u001b[0m\u001b[1;33m,\u001b[0m \u001b[0mkwds\u001b[0m\u001b[1;33m)\u001b[0m\u001b[1;33m\u001b[0m\u001b[1;33m\u001b[0m\u001b[0m\n\u001b[0m\u001b[0;32m    677\u001b[0m \u001b[1;33m\u001b[0m\u001b[0m\n\u001b[0;32m    678\u001b[0m     \u001b[0mparser_f\u001b[0m\u001b[1;33m.\u001b[0m\u001b[0m__name__\u001b[0m \u001b[1;33m=\u001b[0m \u001b[0mname\u001b[0m\u001b[1;33m\u001b[0m\u001b[1;33m\u001b[0m\u001b[0m\n",
      "\u001b[1;32m~\\AppData\\Local\\Continuum\\anaconda3\\lib\\site-packages\\pandas\\io\\parsers.py\u001b[0m in \u001b[0;36m_read\u001b[1;34m(filepath_or_buffer, kwds)\u001b[0m\n\u001b[0;32m    446\u001b[0m \u001b[1;33m\u001b[0m\u001b[0m\n\u001b[0;32m    447\u001b[0m     \u001b[1;31m# Create the parser.\u001b[0m\u001b[1;33m\u001b[0m\u001b[1;33m\u001b[0m\u001b[1;33m\u001b[0m\u001b[0m\n\u001b[1;32m--> 448\u001b[1;33m     \u001b[0mparser\u001b[0m \u001b[1;33m=\u001b[0m \u001b[0mTextFileReader\u001b[0m\u001b[1;33m(\u001b[0m\u001b[0mfp_or_buf\u001b[0m\u001b[1;33m,\u001b[0m \u001b[1;33m**\u001b[0m\u001b[0mkwds\u001b[0m\u001b[1;33m)\u001b[0m\u001b[1;33m\u001b[0m\u001b[1;33m\u001b[0m\u001b[0m\n\u001b[0m\u001b[0;32m    449\u001b[0m \u001b[1;33m\u001b[0m\u001b[0m\n\u001b[0;32m    450\u001b[0m     \u001b[1;32mif\u001b[0m \u001b[0mchunksize\u001b[0m \u001b[1;32mor\u001b[0m \u001b[0miterator\u001b[0m\u001b[1;33m:\u001b[0m\u001b[1;33m\u001b[0m\u001b[1;33m\u001b[0m\u001b[0m\n",
      "\u001b[1;32m~\\AppData\\Local\\Continuum\\anaconda3\\lib\\site-packages\\pandas\\io\\parsers.py\u001b[0m in \u001b[0;36m__init__\u001b[1;34m(self, f, engine, **kwds)\u001b[0m\n\u001b[0;32m    878\u001b[0m             \u001b[0mself\u001b[0m\u001b[1;33m.\u001b[0m\u001b[0moptions\u001b[0m\u001b[1;33m[\u001b[0m\u001b[1;34m\"has_index_names\"\u001b[0m\u001b[1;33m]\u001b[0m \u001b[1;33m=\u001b[0m \u001b[0mkwds\u001b[0m\u001b[1;33m[\u001b[0m\u001b[1;34m\"has_index_names\"\u001b[0m\u001b[1;33m]\u001b[0m\u001b[1;33m\u001b[0m\u001b[1;33m\u001b[0m\u001b[0m\n\u001b[0;32m    879\u001b[0m \u001b[1;33m\u001b[0m\u001b[0m\n\u001b[1;32m--> 880\u001b[1;33m         \u001b[0mself\u001b[0m\u001b[1;33m.\u001b[0m\u001b[0m_make_engine\u001b[0m\u001b[1;33m(\u001b[0m\u001b[0mself\u001b[0m\u001b[1;33m.\u001b[0m\u001b[0mengine\u001b[0m\u001b[1;33m)\u001b[0m\u001b[1;33m\u001b[0m\u001b[1;33m\u001b[0m\u001b[0m\n\u001b[0m\u001b[0;32m    881\u001b[0m \u001b[1;33m\u001b[0m\u001b[0m\n\u001b[0;32m    882\u001b[0m     \u001b[1;32mdef\u001b[0m \u001b[0mclose\u001b[0m\u001b[1;33m(\u001b[0m\u001b[0mself\u001b[0m\u001b[1;33m)\u001b[0m\u001b[1;33m:\u001b[0m\u001b[1;33m\u001b[0m\u001b[1;33m\u001b[0m\u001b[0m\n",
      "\u001b[1;32m~\\AppData\\Local\\Continuum\\anaconda3\\lib\\site-packages\\pandas\\io\\parsers.py\u001b[0m in \u001b[0;36m_make_engine\u001b[1;34m(self, engine)\u001b[0m\n\u001b[0;32m   1112\u001b[0m     \u001b[1;32mdef\u001b[0m \u001b[0m_make_engine\u001b[0m\u001b[1;33m(\u001b[0m\u001b[0mself\u001b[0m\u001b[1;33m,\u001b[0m \u001b[0mengine\u001b[0m\u001b[1;33m=\u001b[0m\u001b[1;34m\"c\"\u001b[0m\u001b[1;33m)\u001b[0m\u001b[1;33m:\u001b[0m\u001b[1;33m\u001b[0m\u001b[1;33m\u001b[0m\u001b[0m\n\u001b[0;32m   1113\u001b[0m         \u001b[1;32mif\u001b[0m \u001b[0mengine\u001b[0m \u001b[1;33m==\u001b[0m \u001b[1;34m\"c\"\u001b[0m\u001b[1;33m:\u001b[0m\u001b[1;33m\u001b[0m\u001b[1;33m\u001b[0m\u001b[0m\n\u001b[1;32m-> 1114\u001b[1;33m             \u001b[0mself\u001b[0m\u001b[1;33m.\u001b[0m\u001b[0m_engine\u001b[0m \u001b[1;33m=\u001b[0m \u001b[0mCParserWrapper\u001b[0m\u001b[1;33m(\u001b[0m\u001b[0mself\u001b[0m\u001b[1;33m.\u001b[0m\u001b[0mf\u001b[0m\u001b[1;33m,\u001b[0m \u001b[1;33m**\u001b[0m\u001b[0mself\u001b[0m\u001b[1;33m.\u001b[0m\u001b[0moptions\u001b[0m\u001b[1;33m)\u001b[0m\u001b[1;33m\u001b[0m\u001b[1;33m\u001b[0m\u001b[0m\n\u001b[0m\u001b[0;32m   1115\u001b[0m         \u001b[1;32melse\u001b[0m\u001b[1;33m:\u001b[0m\u001b[1;33m\u001b[0m\u001b[1;33m\u001b[0m\u001b[0m\n\u001b[0;32m   1116\u001b[0m             \u001b[1;32mif\u001b[0m \u001b[0mengine\u001b[0m \u001b[1;33m==\u001b[0m \u001b[1;34m\"python\"\u001b[0m\u001b[1;33m:\u001b[0m\u001b[1;33m\u001b[0m\u001b[1;33m\u001b[0m\u001b[0m\n",
      "\u001b[1;32m~\\AppData\\Local\\Continuum\\anaconda3\\lib\\site-packages\\pandas\\io\\parsers.py\u001b[0m in \u001b[0;36m__init__\u001b[1;34m(self, src, **kwds)\u001b[0m\n\u001b[0;32m   1889\u001b[0m         \u001b[0mkwds\u001b[0m\u001b[1;33m[\u001b[0m\u001b[1;34m\"usecols\"\u001b[0m\u001b[1;33m]\u001b[0m \u001b[1;33m=\u001b[0m \u001b[0mself\u001b[0m\u001b[1;33m.\u001b[0m\u001b[0musecols\u001b[0m\u001b[1;33m\u001b[0m\u001b[1;33m\u001b[0m\u001b[0m\n\u001b[0;32m   1890\u001b[0m \u001b[1;33m\u001b[0m\u001b[0m\n\u001b[1;32m-> 1891\u001b[1;33m         \u001b[0mself\u001b[0m\u001b[1;33m.\u001b[0m\u001b[0m_reader\u001b[0m \u001b[1;33m=\u001b[0m \u001b[0mparsers\u001b[0m\u001b[1;33m.\u001b[0m\u001b[0mTextReader\u001b[0m\u001b[1;33m(\u001b[0m\u001b[0msrc\u001b[0m\u001b[1;33m,\u001b[0m \u001b[1;33m**\u001b[0m\u001b[0mkwds\u001b[0m\u001b[1;33m)\u001b[0m\u001b[1;33m\u001b[0m\u001b[1;33m\u001b[0m\u001b[0m\n\u001b[0m\u001b[0;32m   1892\u001b[0m         \u001b[0mself\u001b[0m\u001b[1;33m.\u001b[0m\u001b[0munnamed_cols\u001b[0m \u001b[1;33m=\u001b[0m \u001b[0mself\u001b[0m\u001b[1;33m.\u001b[0m\u001b[0m_reader\u001b[0m\u001b[1;33m.\u001b[0m\u001b[0munnamed_cols\u001b[0m\u001b[1;33m\u001b[0m\u001b[1;33m\u001b[0m\u001b[0m\n\u001b[0;32m   1893\u001b[0m \u001b[1;33m\u001b[0m\u001b[0m\n",
      "\u001b[1;32mpandas\\_libs\\parsers.pyx\u001b[0m in \u001b[0;36mpandas._libs.parsers.TextReader.__cinit__\u001b[1;34m()\u001b[0m\n",
      "\u001b[1;32mpandas\\_libs\\parsers.pyx\u001b[0m in \u001b[0;36mpandas._libs.parsers.TextReader._setup_parser_source\u001b[1;34m()\u001b[0m\n",
      "\u001b[1;31mFileNotFoundError\u001b[0m: [Errno 2] File ./data/road-train-pre.csv does not exist: './data/road-train-pre.csv'"
     ]
    }
   ],
   "source": [
    "data_train = pd.read_csv('./data/road-train-pre.csv', error_bad_lines=False)\n",
    "data_test = pd.read_csv('./data/road-test-pre.csv', error_bad_lines=False)"
   ]
  },
  {
   "cell_type": "code",
   "execution_count": 186,
   "metadata": {},
   "outputs": [],
   "source": [
    "data_train['event time:timestamp'] = pd.to_datetime(data_train['event time:timestamp'])\n",
    "data_train = data_train.sort_values(by=['case concept:name', 'event time:timestamp'])"
   ]
  },
  {
   "cell_type": "code",
   "execution_count": 187,
   "metadata": {},
   "outputs": [],
   "source": [
    "data_test['event time:timestamp'] = pd.to_datetime(data_test['event time:timestamp'])\n",
    "data_test = data_test.sort_values(by=['case concept:name', 'event time:timestamp'])"
   ]
  },
  {
   "cell_type": "code",
   "execution_count": 188,
   "metadata": {},
   "outputs": [],
   "source": [
    "#assign position of event as new column to train data\n",
    "data_train['place']=data_train.groupby('case concept:name').cumcount()"
   ]
  },
  {
   "cell_type": "code",
   "execution_count": 189,
   "metadata": {},
   "outputs": [],
   "source": [
    "#assign position of event as new column to test data\n",
    "data_test['place']=data_test.groupby('case concept:name').cumcount()"
   ]
  },
  {
   "cell_type": "code",
   "execution_count": 190,
   "metadata": {},
   "outputs": [
    {
     "data": {
      "text/plain": [
       "LabelEncoder()"
      ]
     },
     "execution_count": 190,
     "metadata": {},
     "output_type": "execute_result"
    }
   ],
   "source": [
    "cases = list(data_train['event concept:name'].unique())\n",
    "cases.insert(0, 'New Case') # list of all unique event names\n",
    "le = preprocessing.LabelEncoder()\n",
    "le.fit(cases)  # encoding all event names into integers"
   ]
  },
  {
   "cell_type": "code",
   "execution_count": 191,
   "metadata": {},
   "outputs": [],
   "source": [
    "x_train = np.array(data_train['place']).reshape(-1,1)[:-1]\n",
    "y_train = np.array(data_train['event concept:name']).reshape(-1,1)[1:]"
   ]
  },
  {
   "cell_type": "code",
   "execution_count": 192,
   "metadata": {},
   "outputs": [],
   "source": [
    "#new list of features, containing previous event\n",
    "x_train_prev = list(data_train['event concept:name'])\n",
    "x_train_prev.insert(0, 'New Case')\n",
    "x_train_prev= le.transform(x_train_prev)\n",
    "x_train_prev = np.array(x_train_prev).reshape(-1,1)[:-2]"
   ]
  },
  {
   "cell_type": "code",
   "execution_count": 193,
   "metadata": {},
   "outputs": [],
   "source": [
    "#combine the 2 features, place and previous event\n",
    "x_train_new = np.concatenate((x_train,x_train_prev), axis=1)"
   ]
  },
  {
   "cell_type": "code",
   "execution_count": 194,
   "metadata": {},
   "outputs": [],
   "source": [
    "#same for test data\n",
    "x_test = np.array(data_test['place']).reshape(-1,1)[:-1]\n",
    "y_test = np.array(data_test['event concept:name']).reshape(-1,1)[1:]"
   ]
  },
  {
   "cell_type": "code",
   "execution_count": 195,
   "metadata": {},
   "outputs": [],
   "source": [
    "x_test_prev = list(data_test['event concept:name'])\n",
    "x_test_prev.insert(0, 'New Case')\n",
    "x_test_prev= le.transform(x_test_prev)\n",
    "x_test_prev = np.array(x_test_prev).reshape(-1,1)[:-2]"
   ]
  },
  {
   "cell_type": "code",
   "execution_count": 196,
   "metadata": {},
   "outputs": [],
   "source": [
    "x_test_new = np.concatenate((x_test,x_test_prev), axis=1)"
   ]
  },
  {
   "cell_type": "code",
   "execution_count": 197,
   "metadata": {},
   "outputs": [
    {
     "data": {
      "text/plain": [
       "DecisionTreeClassifier(ccp_alpha=0.0, class_weight=None, criterion='gini',\n",
       "                       max_depth=None, max_features=None, max_leaf_nodes=None,\n",
       "                       min_impurity_decrease=0.0, min_impurity_split=None,\n",
       "                       min_samples_leaf=1, min_samples_split=2,\n",
       "                       min_weight_fraction_leaf=0.0, presort='deprecated',\n",
       "                       random_state=None, splitter='best')"
      ]
     },
     "execution_count": 197,
     "metadata": {},
     "output_type": "execute_result"
    }
   ],
   "source": [
    "classifier = DecisionTreeClassifier()\n",
    "classifier.fit(x_train_new, y_train)"
   ]
  },
  {
   "cell_type": "code",
   "execution_count": 198,
   "metadata": {},
   "outputs": [],
   "source": [
    "#fit decision tree on training data\n",
    "prediction= classifier.predict(x_test_new).reshape(-1,1)"
   ]
  },
  {
   "cell_type": "code",
   "execution_count": 199,
   "metadata": {},
   "outputs": [
    {
     "data": {
      "text/plain": [
       "0.4486248053969901"
      ]
     },
     "execution_count": 199,
     "metadata": {},
     "output_type": "execute_result"
    }
   ],
   "source": [
    "from sklearn.metrics import accuracy_score\n",
    "#accuracy of the tree\n",
    "acc = accuracy_score(y_test, prediction)\n",
    "acc"
   ]
  },
  {
   "cell_type": "code",
   "execution_count": 200,
   "metadata": {},
   "outputs": [
    {
     "data": {
      "image/png": "[encoded data removed]",
      "text/plain": [
       "<Figure size 720x720 with 1 Axes>"
      ]
     },
     "metadata": {
      "needs_background": "light"
     },
     "output_type": "display_data"
    }
   ],
   "source": [
    "from matplotlib.pylab import rcParams\n",
    "\n",
    "##set up the parameters\n",
    "rcParams['figure.figsize'] = 10,10\n",
    "plt.rcParams.update({'font.size': 32})\n",
    "\n",
    "tree.plot_tree(classifier);"
   ]
  },
  {
   "cell_type": "code",
   "execution_count": 201,
   "metadata": {},
   "outputs": [
    {
     "name": "stdout",
     "output_type": "stream",
     "text": [
      "|--- place <= 2.50\n",
      "|   |--- place <= 1.50\n",
      "|   |   |--- place <= 0.50\n",
      "|   |   |   |--- prev event <= 2.50\n",
      "|   |   |   |   |--- prev event <= 1.50\n",
      "|   |   |   |   |   |--- prev event <= 0.50\n",
      "|   |   |   |   |   |   |--- class: Send Fine\n",
      "|   |   |   |   |   |--- prev event >  0.50\n",
      "|   |   |   |   |   |   |--- class: Send Fine\n",
      "|   |   |   |   |--- prev event >  1.50\n",
      "|   |   |   |   |   |--- class: Create Fine\n",
      "|   |   |   |--- prev event >  2.50\n",
      "|   |   |   |   |--- prev event <= 7.50\n",
      "|   |   |   |   |   |--- prev event <= 6.50\n",
      "|   |   |   |   |   |   |--- prev event <= 3.50\n",
      "|   |   |   |   |   |   |   |--- class: Send Fine\n",
      "|   |   |   |   |   |   |--- prev event >  3.50\n",
      "|   |   |   |   |   |   |   |--- prev event <= 5.50\n",
      "|   |   |   |   |   |   |   |   |--- prev event <= 4.50\n",
      "|   |   |   |   |   |   |   |   |   |--- class: Send Fine\n",
      "|   |   |   |   |   |   |   |   |--- prev event >  4.50\n",
      "|   |   |   |   |   |   |   |   |   |--- class: Create Fine\n",
      "|   |   |   |   |   |   |   |--- prev event >  5.50\n",
      "|   |   |   |   |   |   |   |   |--- class: Send Fine\n",
      "|   |   |   |   |   |--- prev event >  6.50\n",
      "|   |   |   |   |   |   |--- class: Send Fine\n",
      "|   |   |   |   |--- prev event >  7.50\n",
      "|   |   |   |   |   |--- prev event <= 10.50\n",
      "|   |   |   |   |   |   |--- prev event <= 9.50\n",
      "|   |   |   |   |   |   |   |--- prev event <= 8.50\n",
      "|   |   |   |   |   |   |   |   |--- class: Send Fine\n",
      "|   |   |   |   |   |   |   |--- prev event >  8.50\n",
      "|   |   |   |   |   |   |   |   |--- class: Send Fine\n",
      "|   |   |   |   |   |   |--- prev event >  9.50\n",
      "|   |   |   |   |   |   |   |--- class: Send Fine\n",
      "|   |   |   |   |   |--- prev event >  10.50\n",
      "|   |   |   |   |   |   |--- class: Send Fine\n",
      "|   |   |--- place >  0.50\n",
      "|   |   |   |--- prev event <= 2.50\n",
      "|   |   |   |   |--- prev event <= 1.50\n",
      "|   |   |   |   |   |--- prev event <= 0.50\n",
      "|   |   |   |   |   |   |--- class: Create Fine\n",
      "|   |   |   |   |   |--- prev event >  0.50\n",
      "|   |   |   |   |   |   |--- class: Send Fine\n",
      "|   |   |   |   |--- prev event >  1.50\n",
      "|   |   |   |   |   |--- class: Insert Fine Notification\n",
      "|   |   |   |--- prev event >  2.50\n",
      "|   |   |   |   |--- prev event <= 9.50\n",
      "|   |   |   |   |   |--- prev event <= 6.50\n",
      "|   |   |   |   |   |   |--- prev event <= 3.50\n",
      "|   |   |   |   |   |   |   |--- class: Send Fine\n",
      "|   |   |   |   |   |   |--- prev event >  3.50\n",
      "|   |   |   |   |   |   |   |--- prev event <= 5.00\n",
      "|   |   |   |   |   |   |   |   |--- class: Send Fine\n",
      "|   |   |   |   |   |   |   |--- prev event >  5.00\n",
      "|   |   |   |   |   |   |   |   |--- class: Send Fine\n",
      "|   |   |   |   |   |--- prev event >  6.50\n",
      "|   |   |   |   |   |   |--- prev event <= 7.50\n",
      "|   |   |   |   |   |   |   |--- class: Create Fine\n",
      "|   |   |   |   |   |   |--- prev event >  7.50\n",
      "|   |   |   |   |   |   |   |--- prev event <= 8.50\n",
      "|   |   |   |   |   |   |   |   |--- class: Insert Fine Notification\n",
      "|   |   |   |   |   |   |   |--- prev event >  8.50\n",
      "|   |   |   |   |   |   |   |   |--- class: Send Fine\n",
      "|   |   |   |   |--- prev event >  9.50\n",
      "|   |   |   |   |   |--- class: Insert Fine Notification\n",
      "|   |--- place >  1.50\n",
      "|   |   |--- prev event <= 9.50\n",
      "|   |   |   |--- prev event <= 0.50\n",
      "|   |   |   |   |--- class: Send Fine\n",
      "|   |   |   |--- prev event >  0.50\n",
      "|   |   |   |   |--- prev event <= 2.50\n",
      "|   |   |   |   |   |--- prev event <= 1.50\n",
      "|   |   |   |   |   |   |--- class: Insert Fine Notification\n",
      "|   |   |   |   |   |--- prev event >  1.50\n",
      "|   |   |   |   |   |   |--- class: Add penalty\n",
      "|   |   |   |   |--- prev event >  2.50\n",
      "|   |   |   |   |   |--- prev event <= 6.50\n",
      "|   |   |   |   |   |   |--- prev event <= 3.50\n",
      "|   |   |   |   |   |   |   |--- class: Insert Fine Notification\n",
      "|   |   |   |   |   |   |--- prev event >  3.50\n",
      "|   |   |   |   |   |   |   |--- prev event <= 5.00\n",
      "|   |   |   |   |   |   |   |   |--- class: Send Fine\n",
      "|   |   |   |   |   |   |   |--- prev event >  5.00\n",
      "|   |   |   |   |   |   |   |   |--- class: Add penalty\n",
      "|   |   |   |   |   |--- prev event >  6.50\n",
      "|   |   |   |   |   |   |--- prev event <= 7.50\n",
      "|   |   |   |   |   |   |   |--- class: Create Fine\n",
      "|   |   |   |   |   |   |--- prev event >  7.50\n",
      "|   |   |   |   |   |   |   |--- prev event <= 8.50\n",
      "|   |   |   |   |   |   |   |   |--- class: Insert Fine Notification\n",
      "|   |   |   |   |   |   |   |--- prev event >  8.50\n",
      "|   |   |   |   |   |   |   |   |--- class: Insert Fine Notification\n",
      "|   |   |--- prev event >  9.50\n",
      "|   |   |   |--- class: Add penalty\n",
      "|--- place >  2.50\n",
      "|   |--- place <= 3.50\n",
      "|   |   |--- prev event <= 5.00\n",
      "|   |   |   |--- prev event <= 0.50\n",
      "|   |   |   |   |--- class: Send for Credit Collection\n",
      "|   |   |   |--- prev event >  0.50\n",
      "|   |   |   |   |--- prev event <= 3.50\n",
      "|   |   |   |   |   |--- prev event <= 2.50\n",
      "|   |   |   |   |   |   |--- prev event <= 1.50\n",
      "|   |   |   |   |   |   |   |--- class: Insert Fine Notification\n",
      "|   |   |   |   |   |   |--- prev event >  1.50\n",
      "|   |   |   |   |   |   |   |--- class: Send for Credit Collection\n",
      "|   |   |   |   |   |--- prev event >  2.50\n",
      "|   |   |   |   |   |   |--- class: Add penalty\n",
      "|   |   |   |   |--- prev event >  3.50\n",
      "|   |   |   |   |   |--- class: Send for Credit Collection\n",
      "|   |   |--- prev event >  5.00\n",
      "|   |   |   |--- prev event <= 9.50\n",
      "|   |   |   |   |--- prev event <= 7.50\n",
      "|   |   |   |   |   |--- prev event <= 6.50\n",
      "|   |   |   |   |   |   |--- class: Insert Fine Notification\n",
      "|   |   |   |   |   |--- prev event >  6.50\n",
      "|   |   |   |   |   |   |--- class: Add penalty\n",
      "|   |   |   |   |--- prev event >  7.50\n",
      "|   |   |   |   |   |--- prev event <= 8.50\n",
      "|   |   |   |   |   |   |--- class: Insert Date Appeal to Prefecture\n",
      "|   |   |   |   |   |--- prev event >  8.50\n",
      "|   |   |   |   |   |   |--- class: Insert Fine Notification\n",
      "|   |   |   |--- prev event >  9.50\n",
      "|   |   |   |   |--- class: Send for Credit Collection\n",
      "|   |--- place >  3.50\n",
      "|   |   |--- prev event <= 0.50\n",
      "|   |   |   |--- place <= 5.50\n",
      "|   |   |   |   |--- place <= 4.50\n",
      "|   |   |   |   |   |--- class: Create Fine\n",
      "|   |   |   |   |--- place >  4.50\n",
      "|   |   |   |   |   |--- class: Create Fine\n",
      "|   |   |   |--- place >  5.50\n",
      "|   |   |   |   |--- place <= 7.50\n",
      "|   |   |   |   |   |--- place <= 6.50\n",
      "|   |   |   |   |   |   |--- class: Notify Result Appeal to Offender\n",
      "|   |   |   |   |   |--- place >  6.50\n",
      "|   |   |   |   |   |   |--- class: Send for Credit Collection\n",
      "|   |   |   |   |--- place >  7.50\n",
      "|   |   |   |   |   |--- place <= 8.50\n",
      "|   |   |   |   |   |   |--- class: Create Fine\n",
      "|   |   |   |   |   |--- place >  8.50\n",
      "|   |   |   |   |   |   |--- class: Create Fine\n",
      "|   |   |--- prev event >  0.50\n",
      "|   |   |   |--- prev event <= 3.50\n",
      "|   |   |   |   |--- prev event <= 2.50\n",
      "|   |   |   |   |   |--- prev event <= 1.50\n",
      "|   |   |   |   |   |   |--- place <= 4.50\n",
      "|   |   |   |   |   |   |   |--- class: Payment\n",
      "|   |   |   |   |   |   |--- place >  4.50\n",
      "|   |   |   |   |   |   |   |--- place <= 5.50\n",
      "|   |   |   |   |   |   |   |   |--- class: Create Fine\n",
      "|   |   |   |   |   |   |   |--- place >  5.50\n",
      "|   |   |   |   |   |   |   |   |--- place <= 7.50\n",
      "|   |   |   |   |   |   |   |   |   |--- place <= 6.50\n",
      "|   |   |   |   |   |   |   |   |   |   |--- class: Payment\n",
      "|   |   |   |   |   |   |   |   |   |--- place >  6.50\n",
      "|   |   |   |   |   |   |   |   |   |   |--- class: Insert Date Appeal to Prefecture\n",
      "|   |   |   |   |   |   |   |   |--- place >  7.50\n",
      "|   |   |   |   |   |   |   |   |   |--- place <= 8.50\n",
      "|   |   |   |   |   |   |   |   |   |   |--- class: Create Fine\n",
      "|   |   |   |   |   |   |   |   |   |--- place >  8.50\n",
      "|   |   |   |   |   |   |   |   |   |   |--- class: Create Fine\n",
      "|   |   |   |   |   |--- prev event >  1.50\n",
      "|   |   |   |   |   |   |--- place <= 5.50\n",
      "|   |   |   |   |   |   |   |--- place <= 4.50\n",
      "|   |   |   |   |   |   |   |   |--- class: Send Fine\n",
      "|   |   |   |   |   |   |   |--- place >  4.50\n",
      "|   |   |   |   |   |   |   |   |--- class: Send Fine\n",
      "|   |   |   |   |   |   |--- place >  5.50\n",
      "|   |   |   |   |   |   |   |--- place <= 6.50\n",
      "|   |   |   |   |   |   |   |   |--- class: Notify Result Appeal to Offender\n",
      "|   |   |   |   |   |   |   |--- place >  6.50\n",
      "|   |   |   |   |   |   |   |   |--- place <= 7.50\n",
      "|   |   |   |   |   |   |   |   |   |--- class: Send for Credit Collection\n",
      "|   |   |   |   |   |   |   |   |--- place >  7.50\n",
      "|   |   |   |   |   |   |   |   |   |--- class: Add penalty\n",
      "|   |   |   |   |--- prev event >  2.50\n",
      "|   |   |   |   |   |--- place <= 4.50\n",
      "|   |   |   |   |   |   |--- class: Send Appeal to Prefecture\n",
      "|   |   |   |   |   |--- place >  4.50\n",
      "|   |   |   |   |   |   |--- place <= 5.50\n",
      "|   |   |   |   |   |   |   |--- class: Create Fine\n",
      "|   |   |   |   |   |   |--- place >  5.50\n",
      "|   |   |   |   |   |   |   |--- place <= 7.50\n",
      "|   |   |   |   |   |   |   |   |--- place <= 6.50\n",
      "|   |   |   |   |   |   |   |   |   |--- class: Notify Result Appeal to Offender\n",
      "|   |   |   |   |   |   |   |   |--- place >  6.50\n",
      "|   |   |   |   |   |   |   |   |   |--- class: Payment\n",
      "|   |   |   |   |   |   |   |--- place >  7.50\n",
      "|   |   |   |   |   |   |   |   |--- place <= 8.50\n",
      "|   |   |   |   |   |   |   |   |   |--- class: Create Fine\n",
      "|   |   |   |   |   |   |   |   |--- place >  8.50\n",
      "|   |   |   |   |   |   |   |   |   |--- class: Create Fine\n",
      "|   |   |   |--- prev event >  3.50\n",
      "|   |   |   |   |--- prev event <= 9.50\n",
      "|   |   |   |   |   |--- place <= 4.50\n",
      "|   |   |   |   |   |   |--- prev event <= 5.00\n",
      "|   |   |   |   |   |   |   |--- class: Create Fine\n",
      "|   |   |   |   |   |   |--- prev event >  5.00\n",
      "|   |   |   |   |   |   |   |--- prev event <= 7.50\n",
      "|   |   |   |   |   |   |   |   |--- prev event <= 6.50\n",
      "|   |   |   |   |   |   |   |   |   |--- class: Receive Result Appeal from Prefecture\n",
      "|   |   |   |   |   |   |   |   |--- prev event >  6.50\n",
      "|   |   |   |   |   |   |   |   |   |--- class: Payment\n",
      "|   |   |   |   |   |   |   |--- prev event >  7.50\n",
      "|   |   |   |   |   |   |   |   |--- prev event <= 8.50\n",
      "|   |   |   |   |   |   |   |   |   |--- class: Send Appeal to Prefecture\n",
      "|   |   |   |   |   |   |   |   |--- prev event >  8.50\n",
      "|   |   |   |   |   |   |   |   |   |--- class: Add penalty\n",
      "|   |   |   |   |   |--- place >  4.50\n",
      "|   |   |   |   |   |   |--- place <= 5.50\n",
      "|   |   |   |   |   |   |   |--- prev event <= 7.50\n",
      "|   |   |   |   |   |   |   |   |--- prev event <= 6.50\n",
      "|   |   |   |   |   |   |   |   |   |--- prev event <= 5.00\n",
      "|   |   |   |   |   |   |   |   |   |   |--- class: Create Fine\n",
      "|   |   |   |   |   |   |   |   |   |--- prev event >  5.00\n",
      "|   |   |   |   |   |   |   |   |   |   |--- class: Send Appeal to Prefecture\n",
      "|   |   |   |   |   |   |   |   |--- prev event >  6.50\n",
      "|   |   |   |   |   |   |   |   |   |--- class: Create Fine\n",
      "|   |   |   |   |   |   |   |--- prev event >  7.50\n",
      "|   |   |   |   |   |   |   |   |--- prev event <= 8.50\n",
      "|   |   |   |   |   |   |   |   |   |--- class: Add penalty\n",
      "|   |   |   |   |   |   |   |   |--- prev event >  8.50\n",
      "|   |   |   |   |   |   |   |   |   |--- class: Create Fine\n",
      "|   |   |   |   |   |   |--- place >  5.50\n",
      "|   |   |   |   |   |   |   |--- place <= 7.50\n",
      "|   |   |   |   |   |   |   |   |--- place <= 6.50\n",
      "|   |   |   |   |   |   |   |   |   |--- prev event <= 7.50\n",
      "|   |   |   |   |   |   |   |   |   |   |--- prev event <= 6.50\n",
      "|   |   |   |   |   |   |   |   |   |   |   |--- truncated branch of depth 2\n",
      "|   |   |   |   |   |   |   |   |   |   |--- prev event >  6.50\n",
      "|   |   |   |   |   |   |   |   |   |   |   |--- class: Create Fine\n",
      "|   |   |   |   |   |   |   |   |   |--- prev event >  7.50\n",
      "|   |   |   |   |   |   |   |   |   |   |--- prev event <= 8.50\n",
      "|   |   |   |   |   |   |   |   |   |   |   |--- class: Notify Result Appeal to Offender\n",
      "|   |   |   |   |   |   |   |   |   |   |--- prev event >  8.50\n",
      "|   |   |   |   |   |   |   |   |   |   |   |--- class: Notify Result Appeal to Offender\n",
      "|   |   |   |   |   |   |   |   |--- place >  6.50\n",
      "|   |   |   |   |   |   |   |   |   |--- prev event <= 7.50\n",
      "|   |   |   |   |   |   |   |   |   |   |--- prev event <= 6.50\n",
      "|   |   |   |   |   |   |   |   |   |   |   |--- truncated branch of depth 2\n",
      "|   |   |   |   |   |   |   |   |   |   |--- prev event >  6.50\n",
      "|   |   |   |   |   |   |   |   |   |   |   |--- class: Create Fine\n",
      "|   |   |   |   |   |   |   |   |   |--- prev event >  7.50\n",
      "|   |   |   |   |   |   |   |   |   |   |--- prev event <= 8.50\n",
      "|   |   |   |   |   |   |   |   |   |   |   |--- class: Payment\n",
      "|   |   |   |   |   |   |   |   |   |   |--- prev event >  8.50\n",
      "|   |   |   |   |   |   |   |   |   |   |   |--- class: Payment\n",
      "|   |   |   |   |   |   |   |--- place >  7.50\n",
      "|   |   |   |   |   |   |   |   |--- place <= 8.50\n",
      "|   |   |   |   |   |   |   |   |   |--- prev event <= 8.50\n",
      "|   |   |   |   |   |   |   |   |   |   |--- prev event <= 5.00\n",
      "|   |   |   |   |   |   |   |   |   |   |   |--- class: Create Fine\n",
      "|   |   |   |   |   |   |   |   |   |   |--- prev event >  5.00\n",
      "|   |   |   |   |   |   |   |   |   |   |   |--- truncated branch of depth 3\n",
      "|   |   |   |   |   |   |   |   |   |--- prev event >  8.50\n",
      "|   |   |   |   |   |   |   |   |   |   |--- class: Create Fine\n",
      "|   |   |   |   |   |   |   |   |--- place >  8.50\n",
      "|   |   |   |   |   |   |   |   |   |--- prev event <= 6.50\n",
      "|   |   |   |   |   |   |   |   |   |   |--- place <= 9.50\n",
      "|   |   |   |   |   |   |   |   |   |   |   |--- truncated branch of depth 2\n",
      "|   |   |   |   |   |   |   |   |   |   |--- place >  9.50\n",
      "|   |   |   |   |   |   |   |   |   |   |   |--- class: Payment\n",
      "|   |   |   |   |   |   |   |   |   |--- prev event >  6.50\n",
      "|   |   |   |   |   |   |   |   |   |   |--- place <= 15.50\n",
      "|   |   |   |   |   |   |   |   |   |   |   |--- truncated branch of depth 5\n",
      "|   |   |   |   |   |   |   |   |   |   |--- place >  15.50\n",
      "|   |   |   |   |   |   |   |   |   |   |   |--- class: Create Fine\n",
      "|   |   |   |   |--- prev event >  9.50\n",
      "|   |   |   |   |   |--- place <= 5.50\n",
      "|   |   |   |   |   |   |--- place <= 4.50\n",
      "|   |   |   |   |   |   |   |--- class: Create Fine\n",
      "|   |   |   |   |   |   |--- place >  4.50\n",
      "|   |   |   |   |   |   |   |--- prev event <= 10.50\n",
      "|   |   |   |   |   |   |   |   |--- class: Create Fine\n",
      "|   |   |   |   |   |   |   |--- prev event >  10.50\n",
      "|   |   |   |   |   |   |   |   |--- class: Create Fine\n",
      "|   |   |   |   |   |--- place >  5.50\n",
      "|   |   |   |   |   |   |--- place <= 7.50\n",
      "|   |   |   |   |   |   |   |--- place <= 6.50\n",
      "|   |   |   |   |   |   |   |   |--- class: Notify Result Appeal to Offender\n",
      "|   |   |   |   |   |   |   |--- place >  6.50\n",
      "|   |   |   |   |   |   |   |   |--- class: Payment\n",
      "|   |   |   |   |   |   |--- place >  7.50\n",
      "|   |   |   |   |   |   |   |--- place <= 8.50\n",
      "|   |   |   |   |   |   |   |   |--- prev event <= 10.50\n",
      "|   |   |   |   |   |   |   |   |   |--- class: Create Fine\n",
      "|   |   |   |   |   |   |   |   |--- prev event >  10.50\n",
      "|   |   |   |   |   |   |   |   |   |--- class: Create Fine\n",
      "|   |   |   |   |   |   |   |--- place >  8.50\n",
      "|   |   |   |   |   |   |   |   |--- class: Create Fine\n",
      "\n"
     ]
    }
   ],
   "source": [
    "from sklearn.tree.export import export_text\n",
    "r = export_text(classifier, feature_names=['place', 'prev event'])\n",
    "print(r)\n"
   ]
  },
  {
   "cell_type": "code",
   "execution_count": null,
   "metadata": {},
   "outputs": [],
   "source": []
  }
 ],
 "metadata": {
  "kernelspec": {
   "display_name": "Python 3",
   "language": "python",
   "name": "python3"
  },
  "language_info": {
   "codemirror_mode": {
    "name": "ipython",
    "version": 3
   },
   "file_extension": ".py",
   "mimetype": "text/x-python",
   "name": "python",
   "nbconvert_exporter": "python",
   "pygments_lexer": "ipython3",
   "version": "3.6.9"
  }
 },
 "nbformat": 4,
 "nbformat_minor": 4
}
