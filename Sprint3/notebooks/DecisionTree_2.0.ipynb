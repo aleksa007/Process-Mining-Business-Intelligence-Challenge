{
 "cells": [
  {
   "cell_type": "markdown",
   "metadata": {},
   "source": [
    "# Decision Trees for predicting the next event of a case\n",
    "\n"
   ]
  },
  {
   "cell_type": "code",
   "execution_count": 1,
   "metadata": {},
   "outputs": [],
   "source": [
    "import os\n",
    "import pandas as pd\n",
    "from sklearn.tree import DecisionTreeClassifier\n",
    "from sklearn import preprocessing\n",
    "from sklearn.metrics import mean_squared_error, accuracy_score\n",
    "from progressbar import ProgressBar\n",
    "import numpy as np\n",
    "import time"
   ]
  },
  {
   "cell_type": "code",
   "execution_count": 2,
   "metadata": {},
   "outputs": [],
   "source": [
    "start_time = time.time()"
   ]
  },
  {
   "cell_type": "code",
   "execution_count": 3,
   "metadata": {},
   "outputs": [],
   "source": [
    "os.chdir(\"../\")"
   ]
  },
  {
   "cell_type": "code",
   "execution_count": 4,
   "metadata": {},
   "outputs": [],
   "source": [
    "data_train = pd.read_csv('./data/road-train-pre.csv', error_bad_lines=False)\n",
    "data_test = pd.read_csv('./data/road-test-pre.csv', error_bad_lines=False)"
   ]
  },
  {
   "cell_type": "code",
   "execution_count": 5,
   "metadata": {},
   "outputs": [],
   "source": [
    "data_train['event time:timestamp'] = pd.to_datetime(data_train['event time:timestamp'])\n",
    "data_train = data_train.sort_values(by=['case concept:name', 'event time:timestamp'])"
   ]
  },
  {
   "cell_type": "code",
   "execution_count": 6,
   "metadata": {},
   "outputs": [],
   "source": [
    "data_test['event time:timestamp'] = pd.to_datetime(data_test['event time:timestamp'])\n",
    "data_test = data_test.sort_values(by=['case concept:name', 'event time:timestamp'])"
   ]
  },
  {
   "cell_type": "markdown",
   "metadata": {},
   "source": [
    "# 1. Train Data"
   ]
  },
  {
   "cell_type": "code",
   "execution_count": 7,
   "metadata": {},
   "outputs": [],
   "source": [
    "data_train.to_csv(\"fixed.csv\")\n",
    "\n",
    "file = open('fixed.csv', 'r')\n",
    "log = dict()\n",
    "with open('fixed.csv', 'r') as file:\n",
    "    next(file)\n",
    "    for line in file:\n",
    "        line = line.strip()\n",
    "        if len(line) == 0:\n",
    "            continue\n",
    "        parts = line.split(',')\n",
    "        caseid = parts[2]\n",
    "\n",
    "        task = parts[3]\n",
    "        timestamp = parts[5]\n",
    "\n",
    "        if caseid not in log:\n",
    "            log[caseid] = [[],[]]\n",
    "\n",
    "        log[caseid][0].append(task)\n",
    "        log[caseid][1].append(timestamp)\n",
    "        \n",
    "file.close()\n",
    "\n",
    "os.remove('fixed.csv')"
   ]
  },
  {
   "cell_type": "code",
   "execution_count": 8,
   "metadata": {},
   "outputs": [],
   "source": [
    "for i in log.keys():\n",
    "    current = log[i][0]  # recording the current case' events\n",
    "    \n",
    "    real_next = current[1:]  # next real event\n",
    "    real_next.append('New Case')  # adding a 'new case' as real next event for every last event\n",
    "    \n",
    "    log[i].append(real_next)  # adding the real next events to the log file"
   ]
  },
  {
   "cell_type": "markdown",
   "metadata": {},
   "source": [
    "# 2. Test Data"
   ]
  },
  {
   "cell_type": "code",
   "execution_count": 9,
   "metadata": {},
   "outputs": [],
   "source": [
    "data_test.to_csv(\"fixed_test.csv\")\n",
    "\n",
    "file = open('fixed_test.csv', 'r')\n",
    "log_test = dict()\n",
    "with open('fixed_test.csv', 'r') as file:\n",
    "    next(file)\n",
    "    for line in file:\n",
    "        line = line.strip()\n",
    "        if len(line) == 0:\n",
    "            continue\n",
    "        parts = line.split(',')\n",
    "        caseid = parts[2]\n",
    "        \n",
    "        task = parts[3]\n",
    "        timestamp = parts[5]\n",
    "\n",
    "        if caseid not in log_test:\n",
    "            log_test[caseid] = [[],[]]\n",
    "\n",
    "        log_test[caseid][0].append(task)\n",
    "        log_test[caseid][1].append(timestamp)\n",
    "        \n",
    "file.close()\n",
    "\n",
    "os.remove('fixed_test.csv')"
   ]
  },
  {
   "cell_type": "code",
   "execution_count": 10,
   "metadata": {},
   "outputs": [],
   "source": [
    "\"\"\"Fixing a bug of cases that are in the test data but are incomplete due to the train-test split.\"\"\"\n",
    "\n",
    "bugs = []\n",
    "\n",
    "for i in log_test.keys():\n",
    "    if len(log_test[i][0]) == 1:\n",
    "        bugs.append(i)\n",
    "            \n",
    "for x in bugs:\n",
    "    del log_test[x]"
   ]
  },
  {
   "cell_type": "code",
   "execution_count": 11,
   "metadata": {},
   "outputs": [],
   "source": [
    "for i in log_test.keys():\n",
    "    current = log_test[i][0]  # current case' events\n",
    "    \n",
    "    real_next = current[1:]  # next real event\n",
    "    real_next.append('New Case')  # adding a 'new case' as real next event for every last event\n",
    "    log_test[i].append(real_next) "
   ]
  },
  {
   "cell_type": "markdown",
   "metadata": {},
   "source": [
    "# 3. Storing the data"
   ]
  },
  {
   "cell_type": "markdown",
   "metadata": {},
   "source": [
    "## 3.1 TRAIN"
   ]
  },
  {
   "cell_type": "code",
   "execution_count": 12,
   "metadata": {},
   "outputs": [],
   "source": [
    "event_list = []  # list of lists that contains all event names for every case, where each sublist is a new case.\n",
    "for case in log.keys():\n",
    "    event_list.append((log[case][0]))\n",
    "\n",
    "\n",
    "events_longest_event = max(map(len,event_list))  # longest case\n",
    "\n",
    "pos_events_train = []  # list of lists which has all event names for every position, where each sublist is a new position\n",
    "for i in range(events_longest_event):  # creates a list every iteration which is appended to the above list\n",
    "    pos_events_train.append([])\n",
    "    for case in event_list:\n",
    "        if (len(case)-1) >= i:\n",
    "            pos_events_train[i].append(case[i])\n",
    "        else:\n",
    "            pass"
   ]
  },
  {
   "cell_type": "code",
   "execution_count": 13,
   "metadata": {},
   "outputs": [],
   "source": [
    "events_train = {}\n",
    "\n",
    "for i in range(len(pos_events_train)-1):\n",
    "    events_train[i] = []\n",
    "    current_events = pos_events_train[i]\n",
    "    next_events = pos_events_train[i+1]\n",
    "    \n",
    "    events_train[i].append(current_events)\n",
    "    events_train[i].append(next_events)\n",
    "    "
   ]
  },
  {
   "cell_type": "code",
   "execution_count": 14,
   "metadata": {},
   "outputs": [],
   "source": [
    "for i in events_train.keys():\n",
    "    if len(events_train[i][0]) > len(events_train[i][1]):\n",
    "        diff = len(events_train[i][0]) - len(events_train[i][1])\n",
    "        for x in range(diff):\n",
    "            events_train[i][1].append('New Case')"
   ]
  },
  {
   "cell_type": "markdown",
   "metadata": {},
   "source": [
    "## 3.2 TEST"
   ]
  },
  {
   "cell_type": "code",
   "execution_count": 15,
   "metadata": {},
   "outputs": [],
   "source": [
    "event_list_test = []  # list of lists that contains all event names for every case, where each sublist is a new case.\n",
    "for case in log_test.keys():\n",
    "    event_list_test.append((log_test[case][0]))\n",
    "\n",
    "\n",
    "events_longest_event_test = max(map(len,event_list_test))  # longest case\n",
    "\n",
    "pos_events_test = []  # list of lists which has all event names for every position, where each sublist is a new position\n",
    "for i in range(events_longest_event_test):  # creates a list every iteration which is appended to the above list\n",
    "    pos_events_test.append([])\n",
    "    for case in event_list_test:\n",
    "        if (len(case)-1) >= i:\n",
    "            pos_events_test[i].append(case[i])\n",
    "        else:\n",
    "            pass"
   ]
  },
  {
   "cell_type": "code",
   "execution_count": 16,
   "metadata": {},
   "outputs": [],
   "source": [
    "events_test = {}\n",
    "\n",
    "for i in range(len(pos_events_test)-1):\n",
    "    events_test[i] = []\n",
    "    current_events = pos_events_test[i]\n",
    "    next_events = pos_events_test[i+1]\n",
    "    \n",
    "    events_test[i].append(current_events)\n",
    "    events_test[i].append(next_events)\n",
    "    "
   ]
  },
  {
   "cell_type": "code",
   "execution_count": 17,
   "metadata": {},
   "outputs": [],
   "source": [
    "for i in events_test.keys():\n",
    "    if len(events_test[i][0]) > len(events_test[i][1]):\n",
    "        diff = len(events_test[i][0]) - len(events_test[i][1])\n",
    "        for x in range(diff):\n",
    "            events_test[i][1].append('New Case')"
   ]
  },
  {
   "cell_type": "markdown",
   "metadata": {},
   "source": [
    "# 4. Training the decision trees\n"
   ]
  },
  {
   "cell_type": "code",
   "execution_count": 18,
   "metadata": {},
   "outputs": [
    {
     "data": {
      "text/plain": [
       "LabelEncoder()"
      ]
     },
     "execution_count": 18,
     "metadata": {},
     "output_type": "execute_result"
    }
   ],
   "source": [
    "cases = list(data_train['event concept:name'].unique()) + list(data_test['event concept:name'].unique())  # list of all unique event names\n",
    "cases.append('New Case')\n",
    "cases = list(set(cases))\n",
    "le = preprocessing.LabelEncoder()\n",
    "le.fit(cases)  # encoding all event names into integers"
   ]
  },
  {
   "cell_type": "code",
   "execution_count": 19,
   "metadata": {},
   "outputs": [],
   "source": [
    "def decision_tree(pos):\n",
    "\n",
    "    x_train= le.transform(events_train[pos][0]).reshape(-1, 1)\n",
    "    y_train= le.transform(events_train[pos][1]).reshape(-1, 1)\n",
    "\n",
    "    x_test= le.transform(events_test[pos][0]).reshape(-1, 1)\n",
    "    y_test= le.transform(events_test[pos][1]).reshape(-1, 1)\n",
    "    \n",
    "    classifier = DecisionTreeClassifier()\n",
    "    classifier.fit(x_train, y_train)\n",
    "    \n",
    "    return classifier"
   ]
  },
  {
   "cell_type": "code",
   "execution_count": 20,
   "metadata": {},
   "outputs": [],
   "source": [
    "predictors = {}\n",
    "\n",
    "for i in range(len(events_train)):\n",
    "    predictors[i] = decision_tree(i)"
   ]
  },
  {
   "cell_type": "markdown",
   "metadata": {},
   "source": [
    "# 5. Making Predictions"
   ]
  },
  {
   "cell_type": "code",
   "execution_count": 21,
   "metadata": {},
   "outputs": [
    {
     "name": "stderr",
     "output_type": "stream",
     "text": [
      "100% |########################################################################|\n"
     ]
    }
   ],
   "source": [
    "pbar = ProgressBar()\n",
    "\n",
    "for i in pbar(log_test.keys()):\n",
    "    current = log_test[i][0]\n",
    "    predictions = []\n",
    "    \n",
    "    count = 0\n",
    "    for x in current:\n",
    "        if count in predictors:\n",
    "            tree = predictors[count]\n",
    "            transf= le.transform([x]).reshape(-1, 1)\n",
    "            prediction = tree.predict(transf)\n",
    "            pred_string = le.inverse_transform(prediction)[0]\n",
    "            count += 1\n",
    "            predictions.append(pred_string)\n",
    "        else:\n",
    "            tree = predictors[count-1]\n",
    "            transf= le.transform([x]).reshape(-1, 1)\n",
    "            prediction = tree.predict(transf)\n",
    "            pred_string = le.inverse_transform(prediction)[0]\n",
    "            predictions.append(pred_string)\n",
    "            \n",
    "    \n",
    "    log_test[i].append(predictions)"
   ]
  },
  {
   "cell_type": "markdown",
   "metadata": {},
   "source": [
    "# 6. Evaluating Accuracy"
   ]
  },
  {
   "cell_type": "code",
   "execution_count": 22,
   "metadata": {},
   "outputs": [
    {
     "name": "stdout",
     "output_type": "stream",
     "text": [
      "Accuracy for event prediction TEST SET: 56.00000000000001%\n"
     ]
    }
   ],
   "source": [
    "case_names = []\n",
    "event_names = []\n",
    "timestamp = []\n",
    "p_event = []\n",
    "current_real = []\n",
    "\n",
    "for i in log_test.keys():\n",
    "    for x in range(len(log_test[i][0])):\n",
    "        case_names.append(i)\n",
    "        event_names.append(log_test[i][0][x])\n",
    "        timestamp.append(log_test[i][1][x])\n",
    "        p_event.append(log_test[i][3][x])\n",
    "        current_real.append(log_test[i][2][x])\n",
    "\n",
    "\n",
    "frame_dict = {'Case_ID': case_names, 'Event_Name': event_names,\n",
    "              'TimeStamp': timestamp, 'Current_Event': current_real, 'Predicted_Event': p_event}\n",
    "predicted_df = pd.DataFrame.from_dict(frame_dict)\n",
    "\n",
    "event_real = np.array(predicted_df['Current_Event'])\n",
    "event_pred = np.array(predicted_df['Predicted_Event'])\n",
    "\n",
    "acc = accuracy_score(event_real, event_pred)\n",
    "print('Accuracy for event prediction TEST SET: {}%'.format(round(acc, 2) * 100))"
   ]
  },
  {
   "cell_type": "code",
   "execution_count": 23,
   "metadata": {},
   "outputs": [
    {
     "name": "stdout",
     "output_type": "stream",
     "text": [
      "--- 51.49137902259827 seconds ---\n"
     ]
    }
   ],
   "source": [
    "print(\"--- %s seconds ---\" % (time.time() - start_time))"
   ]
  },
  {
   "cell_type": "code",
   "execution_count": 24,
   "metadata": {},
   "outputs": [
    {
     "data": {
      "text/html": [
       "<div>\n",
       "<style scoped>\n",
       "    .dataframe tbody tr th:only-of-type {\n",
       "        vertical-align: middle;\n",
       "    }\n",
       "\n",
       "    .dataframe tbody tr th {\n",
       "        vertical-align: top;\n",
       "    }\n",
       "\n",
       "    .dataframe thead th {\n",
       "        text-align: right;\n",
       "    }\n",
       "</style>\n",
       "<table border=\"1\" class=\"dataframe\">\n",
       "  <thead>\n",
       "    <tr style=\"text-align: right;\">\n",
       "      <th></th>\n",
       "      <th>Case_ID</th>\n",
       "      <th>Event_Name</th>\n",
       "      <th>TimeStamp</th>\n",
       "      <th>Current_Event</th>\n",
       "      <th>Predicted_Event</th>\n",
       "    </tr>\n",
       "  </thead>\n",
       "  <tbody>\n",
       "    <tr>\n",
       "      <th>0</th>\n",
       "      <td>A28905</td>\n",
       "      <td>Create Fine</td>\n",
       "      <td>2009-09-25</td>\n",
       "      <td>Send Fine</td>\n",
       "      <td>Send Fine</td>\n",
       "    </tr>\n",
       "    <tr>\n",
       "      <th>1</th>\n",
       "      <td>A28905</td>\n",
       "      <td>Send Fine</td>\n",
       "      <td>2010-01-19</td>\n",
       "      <td>Insert Fine Notification</td>\n",
       "      <td>New Case</td>\n",
       "    </tr>\n",
       "    <tr>\n",
       "      <th>2</th>\n",
       "      <td>A28905</td>\n",
       "      <td>Insert Fine Notification</td>\n",
       "      <td>2010-08-02</td>\n",
       "      <td>Add penalty</td>\n",
       "      <td>Add penalty</td>\n",
       "    </tr>\n",
       "    <tr>\n",
       "      <th>3</th>\n",
       "      <td>A28905</td>\n",
       "      <td>Add penalty</td>\n",
       "      <td>2010-09-04</td>\n",
       "      <td>Send for Credit Collection</td>\n",
       "      <td>Send for Credit Collection</td>\n",
       "    </tr>\n",
       "    <tr>\n",
       "      <th>4</th>\n",
       "      <td>A28905</td>\n",
       "      <td>Send for Credit Collection</td>\n",
       "      <td>2012-03-26</td>\n",
       "      <td>New Case</td>\n",
       "      <td>New Case</td>\n",
       "    </tr>\n",
       "    <tr>\n",
       "      <th>...</th>\n",
       "      <td>...</td>\n",
       "      <td>...</td>\n",
       "      <td>...</td>\n",
       "      <td>...</td>\n",
       "      <td>...</td>\n",
       "    </tr>\n",
       "    <tr>\n",
       "      <th>96156</th>\n",
       "      <td>V19305</td>\n",
       "      <td>Send Appeal to Prefecture</td>\n",
       "      <td>2012-02-24</td>\n",
       "      <td>New Case</td>\n",
       "      <td>New Case</td>\n",
       "    </tr>\n",
       "    <tr>\n",
       "      <th>96157</th>\n",
       "      <td>V19308</td>\n",
       "      <td>Create Fine</td>\n",
       "      <td>2011-07-10</td>\n",
       "      <td>Send Fine</td>\n",
       "      <td>Send Fine</td>\n",
       "    </tr>\n",
       "    <tr>\n",
       "      <th>96158</th>\n",
       "      <td>V19308</td>\n",
       "      <td>Send Fine</td>\n",
       "      <td>2012-01-30</td>\n",
       "      <td>Insert Fine Notification</td>\n",
       "      <td>New Case</td>\n",
       "    </tr>\n",
       "    <tr>\n",
       "      <th>96159</th>\n",
       "      <td>V19308</td>\n",
       "      <td>Insert Fine Notification</td>\n",
       "      <td>2012-02-24</td>\n",
       "      <td>Add penalty</td>\n",
       "      <td>Add penalty</td>\n",
       "    </tr>\n",
       "    <tr>\n",
       "      <th>96160</th>\n",
       "      <td>V19308</td>\n",
       "      <td>Add penalty</td>\n",
       "      <td>2012-04-24</td>\n",
       "      <td>New Case</td>\n",
       "      <td>Send for Credit Collection</td>\n",
       "    </tr>\n",
       "  </tbody>\n",
       "</table>\n",
       "<p>96161 rows × 5 columns</p>\n",
       "</div>"
      ],
      "text/plain": [
       "      Case_ID                  Event_Name   TimeStamp  \\\n",
       "0      A28905                 Create Fine  2009-09-25   \n",
       "1      A28905                   Send Fine  2010-01-19   \n",
       "2      A28905    Insert Fine Notification  2010-08-02   \n",
       "3      A28905                 Add penalty  2010-09-04   \n",
       "4      A28905  Send for Credit Collection  2012-03-26   \n",
       "...       ...                         ...         ...   \n",
       "96156  V19305   Send Appeal to Prefecture  2012-02-24   \n",
       "96157  V19308                 Create Fine  2011-07-10   \n",
       "96158  V19308                   Send Fine  2012-01-30   \n",
       "96159  V19308    Insert Fine Notification  2012-02-24   \n",
       "96160  V19308                 Add penalty  2012-04-24   \n",
       "\n",
       "                    Current_Event             Predicted_Event  \n",
       "0                       Send Fine                   Send Fine  \n",
       "1        Insert Fine Notification                    New Case  \n",
       "2                     Add penalty                 Add penalty  \n",
       "3      Send for Credit Collection  Send for Credit Collection  \n",
       "4                        New Case                    New Case  \n",
       "...                           ...                         ...  \n",
       "96156                    New Case                    New Case  \n",
       "96157                   Send Fine                   Send Fine  \n",
       "96158    Insert Fine Notification                    New Case  \n",
       "96159                 Add penalty                 Add penalty  \n",
       "96160                    New Case  Send for Credit Collection  \n",
       "\n",
       "[96161 rows x 5 columns]"
      ]
     },
     "execution_count": 24,
     "metadata": {},
     "output_type": "execute_result"
    }
   ],
   "source": [
    "predicted_df"
   ]
  }
 ],
 "metadata": {
  "kernelspec": {
   "display_name": "Python 3",
   "language": "python",
   "name": "python3"
  },
  "language_info": {
   "codemirror_mode": {
    "name": "ipython",
    "version": 3
   },
   "file_extension": ".py",
   "mimetype": "text/x-python",
   "name": "python",
   "nbconvert_exporter": "python",
   "pygments_lexer": "ipython3",
   "version": "3.7.6"
  }
 },
 "nbformat": 4,
 "nbformat_minor": 4
}
