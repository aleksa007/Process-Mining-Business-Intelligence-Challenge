{
 "cells": [
  {
   "cell_type": "code",
   "execution_count": 1,
   "metadata": {},
   "outputs": [],
   "source": [
    "import os\n",
    "import pandas as pd\n",
    "import numpy as np\n",
    "from math import sqrt\n",
    "import datetime\n",
    "from datetime import date\n",
    "from itertools import repeat \n",
    "from progressbar import ProgressBar\n",
    "from sklearn.tree import DecisionTreeClassifier \n",
    "from sklearn.linear_model import LinearRegression \n",
    "from sklearn import metrics \n",
    "from sklearn import preprocessing\n",
    "from sklearn.metrics import mean_squared_error, accuracy_score\n",
    "import time"
   ]
  },
  {
   "cell_type": "code",
   "execution_count": 2,
   "metadata": {},
   "outputs": [],
   "source": [
    "start_time = time.time()"
   ]
  },
  {
   "cell_type": "code",
   "execution_count": 3,
   "metadata": {},
   "outputs": [],
   "source": [
    "#Loading the datasets\n",
    "train = pd.read_csv(\"data/road-train-pre.csv\")\n",
    "test = pd.read_csv(\"data/road-test-pre.csv\")"
   ]
  },
  {
   "cell_type": "code",
   "execution_count": 4,
   "metadata": {},
   "outputs": [],
   "source": [
    "#Sort the datasets and trainsofm to datetime\n",
    "train['event time:timestamp'] = pd.to_datetime(train['event time:timestamp'])\n",
    "test['event time:timestamp'] = pd.to_datetime(test['event time:timestamp'])\n",
    "train=train.sort_values(by=[\"case concept:name\", \"event time:timestamp\"])\n",
    "test=test.sort_values(by=[\"case concept:name\", \"event time:timestamp\"])"
   ]
  },
  {
   "cell_type": "markdown",
   "metadata": {},
   "source": [
    "# Decision Tree"
   ]
  },
  {
   "cell_type": "markdown",
   "metadata": {},
   "source": [
    "Train Data"
   ]
  },
  {
   "cell_type": "code",
   "execution_count": 5,
   "metadata": {},
   "outputs": [],
   "source": [
    "train.to_csv(\"fixed.csv\")\n",
    "\n",
    "file = open('fixed.csv', 'r')\n",
    "log = dict()\n",
    "with open('fixed.csv', 'r') as file:\n",
    "    next(file)\n",
    "    for line in file:\n",
    "        line = line.strip()\n",
    "        if len(line) == 0:\n",
    "            continue\n",
    "        parts = line.split(',')\n",
    "        caseid = parts[2]\n",
    "\n",
    "        task = parts[3]\n",
    "        timestamp =  pd.to_datetime(parts[5]).weekday()\n",
    "\n",
    "        if caseid not in log:\n",
    "            log[caseid] = [[],[]]\n",
    "\n",
    "        log[caseid][0].append(task)\n",
    "        log[caseid][1].append(timestamp)\n",
    "        \n",
    "file.close()\n",
    "\n",
    "os.remove('fixed.csv')"
   ]
  },
  {
   "cell_type": "code",
   "execution_count": 6,
   "metadata": {},
   "outputs": [],
   "source": [
    "for i in log.keys():\n",
    "    current = log[i][0]  # recording the current case' events\n",
    "    \n",
    "    real_next = current[1:]  # next real event\n",
    "    real_next.append('New Case')  # adding a 'new case' as real next event for every last event\n",
    "    \n",
    "    log[i].append(real_next)  # adding the real next events to the log file"
   ]
  },
  {
   "cell_type": "markdown",
   "metadata": {},
   "source": [
    "Test Data"
   ]
  },
  {
   "cell_type": "code",
   "execution_count": 7,
   "metadata": {},
   "outputs": [],
   "source": [
    "test.to_csv(\"fixed_test.csv\")\n",
    "\n",
    "file = open('fixed_test.csv', 'r')\n",
    "log_test = dict()\n",
    "with open('fixed_test.csv', 'r') as file:\n",
    "    next(file)\n",
    "    for line in file:\n",
    "        line = line.strip()\n",
    "        if len(line) == 0:\n",
    "            continue\n",
    "        parts = line.split(',')\n",
    "        caseid = parts[2]\n",
    "        \n",
    "        task = parts[3]\n",
    "        timestamp =  pd.to_datetime(parts[5]).weekday()\n",
    "\n",
    "        if caseid not in log_test:\n",
    "            log_test[caseid] = [[],[]]\n",
    "\n",
    "        log_test[caseid][0].append(task)\n",
    "        log_test[caseid][1].append(timestamp)\n",
    "        \n",
    "file.close()\n",
    "\n",
    "os.remove('fixed_test.csv')"
   ]
  },
  {
   "cell_type": "code",
   "execution_count": 8,
   "metadata": {},
   "outputs": [],
   "source": [
    "for i in log_test.keys():\n",
    "    current = log_test[i][0]  # current case' events\n",
    "    \n",
    "    real_next = current[1:]  # next real event\n",
    "    real_next.append('New Case')  # adding a 'new case' as real next event for every last event\n",
    "    log_test[i].append(real_next)"
   ]
  },
  {
   "cell_type": "markdown",
   "metadata": {},
   "source": [
    "Store Data Train"
   ]
  },
  {
   "cell_type": "code",
   "execution_count": 9,
   "metadata": {},
   "outputs": [],
   "source": [
    "train_data = {} \n",
    "\n",
    "for i in log.keys():\n",
    "    for x in log[i][0]:\n",
    "        case = log[i][0]\n",
    "        time = log[i][1]\n",
    "        ind = log[i][0].index(x)\n",
    "        \n",
    "        if ind not in train_data:\n",
    "            train_data[ind] = [[],[],[]]\n",
    "        \n",
    "        \n",
    "        train_data[ind][0].append(case[:ind+1])  # appending the trace\n",
    "        train_data[ind][2].append(time[:ind+1])\n",
    "        if ind < len(case)-1:\n",
    "            train_data[ind][1].append(case[ind+1])  # appending the next event of the trace\n",
    "            \n",
    "        elif ind == len(case)-1:\n",
    "            train_data[ind][1].append('New Case')\n",
    "            \n",
    "\n"
   ]
  },
  {
   "cell_type": "code",
   "execution_count": 18,
   "metadata": {},
   "outputs": [],
   "source": [
    "test_data = {} \n",
    "\n",
    "for i in log_test.keys():\n",
    "    for x in log_test[i][0]:\n",
    "        case = log_test[i][0]\n",
    "        ind = log_test[i][0].index(x)\n",
    "        time = log_test[i][1]\n",
    "        if ind not in test_data:\n",
    "            test_data[ind] = [[],[],[]]\n",
    "        \n",
    "        \n",
    "        test_data[ind][0].append(case[:ind+1])  # appending the trace\n",
    "        test_data[ind][2].append(time[:ind+1])\n",
    "        if ind < len(case)-1:\n",
    "            test_data[ind][1].append(case[ind+1])  # appending the next event of the trace\n",
    "            \n",
    "        elif ind == len(case)-1:\n",
    "            test_data[ind][1].append('New Case')"
   ]
  },
  {
   "cell_type": "markdown",
   "metadata": {},
   "source": [
    "Encoding"
   ]
  },
  {
   "cell_type": "code",
   "execution_count": 11,
   "metadata": {},
   "outputs": [
    {
     "data": {
      "text/plain": [
       "LabelEncoder()"
      ]
     },
     "execution_count": 11,
     "metadata": {},
     "output_type": "execute_result"
    }
   ],
   "source": [
    "cases = list(train['event concept:name'].unique()) + list(test['event concept:name'].unique())\n",
    "cases.append('New Case')\n",
    "cases = list(set(cases))\n",
    "le = preprocessing.LabelEncoder()\n",
    "le.fit(cases)  # encoding all event names into integers"
   ]
  },
  {
   "cell_type": "code",
   "execution_count": 12,
   "metadata": {},
   "outputs": [
    {
     "name": "stderr",
     "output_type": "stream",
     "text": [
      "100% |########################################################################|\n"
     ]
    }
   ],
   "source": [
    "pbar = ProgressBar()\n",
    "\n",
    "for i in pbar(train_data.keys()):\n",
    "    encoded = []\n",
    "    for trace in train_data[i][0]:  # encoding all strings into integers in the trace\n",
    "        local_encoded = []\n",
    "        for event in trace:\n",
    "            local_encoded.append(int(le.transform([event])))\n",
    "        encoded.append(local_encoded)\n",
    "    \n",
    "    train_data[i][0] = np.array(encoded)\n",
    "    \n",
    "    \n",
    "    encoded_next = []\n",
    "    for g in train_data[i][1]:\n",
    "        encoded_next.append(int(le.transform([g])))\n",
    "                            \n",
    "                            \n",
    "    train_data[i][1] = np.array(encoded_next)"
   ]
  },
  {
   "cell_type": "code",
   "execution_count": 13,
   "metadata": {},
   "outputs": [
    {
     "name": "stderr",
     "output_type": "stream",
     "text": [
      "100% |########################################################################|\n"
     ]
    }
   ],
   "source": [
    "pbar = ProgressBar()\n",
    "\n",
    "for i in pbar(test_data.keys()):\n",
    "    \n",
    "    encoded = []\n",
    "    for trace in test_data[i][0]:  # encoding all strings into integers in the trace\n",
    "        local_encoded = []\n",
    "        for event in trace:\n",
    "            local_encoded.append(int(le.transform([event])))\n",
    "        encoded.append(local_encoded)\n",
    "    \n",
    "    test_data[i][0] = np.array(encoded)\n",
    "    \n",
    "    \n",
    "    encoded_next = []\n",
    "    for g in test_data[i][1]:\n",
    "        encoded_next.append(int(le.transform([g])))\n",
    "                            \n",
    "                            \n",
    "    test_data[i][1] = np.array(encoded_next)"
   ]
  },
  {
   "cell_type": "markdown",
   "metadata": {},
   "source": [
    "Training"
   ]
  },
  {
   "cell_type": "code",
   "execution_count": 56,
   "metadata": {},
   "outputs": [],
   "source": [
    "def decision_tree(pos):\n",
    "\n",
    "    x_train= train_data[pos][0]\n",
    "    x_time = train_data[pos][2]\n",
    "    x_new = np.concatenate((train_data[pos][0], train_data[pos][2]), axis=1)\n",
    "    y_train= train_data[pos][1]\n",
    "\n",
    "    classifier = DecisionTreeClassifier()\n",
    "    classifier.fit(x_new, y_train)\n",
    "    \n",
    "    return classifier"
   ]
  },
  {
   "cell_type": "code",
   "execution_count": 59,
   "metadata": {},
   "outputs": [],
   "source": [
    "predictors = {}\n",
    "\n",
    "for i in range(len(test_data)):\n",
    "    if i >= len(train_data) - 1:\n",
    "        predictors[i] = decision_tree(len(train_data) - 1)\n",
    "        \n",
    "    else:\n",
    "        predictors[i] = decision_tree(i)"
   ]
  },
  {
   "cell_type": "markdown",
   "metadata": {},
   "source": [
    "Adding Predictions"
   ]
  },
  {
   "cell_type": "code",
   "execution_count": 16,
   "metadata": {},
   "outputs": [
    {
     "name": "stderr",
     "output_type": "stream",
     "text": [
      "100% |########################################################################|\n"
     ]
    }
   ],
   "source": [
    "pbar = ProgressBar()\n",
    "\n",
    "for i in pbar(log_test.keys()):\n",
    "    current = log_test[i][0]\n",
    "    \n",
    "    \n",
    "    encoded = []\n",
    "    for g in current:\n",
    "        encoded.append(int(le.transform([g])))\n",
    "    encoded = np.array(encoded)\n",
    "    log_test[i].append(encoded)"
   ]
  },
  {
   "cell_type": "code",
   "execution_count": 74,
   "metadata": {},
   "outputs": [
    {
     "name": "stderr",
     "output_type": "stream",
     "text": [
      "100% |########################################################################|\n"
     ]
    }
   ],
   "source": [
    "pbar = ProgressBar()\n",
    "for i in pbar(log_test.keys()):\n",
    "    \n",
    "    current_encoded = log_test[i][3]\n",
    "    times = log_test[i][1]\n",
    "    predictions = []\n",
    "    \n",
    "    for x in current_encoded:\n",
    "        ind = list(current_encoded).index(x)\n",
    "        \n",
    "        if ind >= len(train_data) - 1:\n",
    "            \n",
    "            tree = predictors[len(train_data) - 1]\n",
    "            p_trace = current_encoded[:(len(train_data))].reshape(-1, 11)\n",
    "            p_time = np.array(times[:(len(train_data))]).reshape(-1,11)\n",
    "            p_new = np.concatenate((p_trace, p_time), axis=1)\n",
    "            pred = tree.predict(p_new)\n",
    "            pred_string = le.inverse_transform(pred)[0]\n",
    "            predictions.append(pred_string)\n",
    "            \n",
    "            \n",
    "            \n",
    "        else:\n",
    "            tree = predictors[ind]\n",
    "            p_trace = current_encoded[:ind+1].reshape(-1,ind+1)\n",
    "            p_time = np.array(times[:ind+1]).reshape(-1,ind+1)\n",
    "            p_new = np.concatenate((p_trace, p_time), axis=1)\n",
    "            pred = tree.predict(p_new)\n",
    "            pred_string = le.inverse_transform(pred)[0]\n",
    "            predictions.append(pred_string)\n",
    "        \n",
    "    log_test[i].append(predictions)"
   ]
  },
  {
   "cell_type": "markdown",
   "metadata": {},
   "source": [
    "Evaluation"
   ]
  },
  {
   "cell_type": "code",
   "execution_count": 75,
   "metadata": {},
   "outputs": [
    {
     "name": "stdout",
     "output_type": "stream",
     "text": [
      "Accuracy for event prediction TEST SET: 67.0%\n"
     ]
    }
   ],
   "source": [
    "case_names = []\n",
    "event_names = []\n",
    "timestamp = []\n",
    "p_event = []\n",
    "current_real = []\n",
    "\n",
    "for i in log_test.keys():\n",
    "    for x in range(len(log_test[i][0])):\n",
    "        case_names.append(i)\n",
    "        event_names.append(log_test[i][0][x])\n",
    "        timestamp.append(log_test[i][1][x])\n",
    "        p_event.append(log_test[i][4][x])\n",
    "        current_real.append(log_test[i][2][x])\n",
    "\n",
    "\n",
    "frame_dict = {'Case_ID': case_names, 'Event_Name': event_names,\n",
    "              'TimeStamp': timestamp, 'Next_Event': current_real, 'Predicted_Event': p_event}\n",
    "predicted_df = pd.DataFrame.from_dict(frame_dict)\n",
    "\n",
    "event_real = np.array(predicted_df['Next_Event'])\n",
    "event_pred = np.array(predicted_df['Predicted_Event'])\n",
    "\n",
    "acc = accuracy_score(event_real, event_pred)\n",
    "print('Accuracy for event prediction TEST SET: {}%'.format(round(acc, 2) * 100))"
   ]
  },
  {
   "cell_type": "code",
   "execution_count": 76,
   "metadata": {},
   "outputs": [
    {
     "data": {
      "text/html": [
       "<div>\n",
       "<style scoped>\n",
       "    .dataframe tbody tr th:only-of-type {\n",
       "        vertical-align: middle;\n",
       "    }\n",
       "\n",
       "    .dataframe tbody tr th {\n",
       "        vertical-align: top;\n",
       "    }\n",
       "\n",
       "    .dataframe thead th {\n",
       "        text-align: right;\n",
       "    }\n",
       "</style>\n",
       "<table border=\"1\" class=\"dataframe\">\n",
       "  <thead>\n",
       "    <tr style=\"text-align: right;\">\n",
       "      <th></th>\n",
       "      <th>Case_ID</th>\n",
       "      <th>Event_Name</th>\n",
       "      <th>TimeStamp</th>\n",
       "      <th>Next_Event</th>\n",
       "      <th>Predicted_Event</th>\n",
       "    </tr>\n",
       "  </thead>\n",
       "  <tbody>\n",
       "    <tr>\n",
       "      <th>0</th>\n",
       "      <td>A28905</td>\n",
       "      <td>Create Fine</td>\n",
       "      <td>4</td>\n",
       "      <td>Send Fine</td>\n",
       "      <td>Send Fine</td>\n",
       "    </tr>\n",
       "    <tr>\n",
       "      <th>1</th>\n",
       "      <td>A28905</td>\n",
       "      <td>Send Fine</td>\n",
       "      <td>1</td>\n",
       "      <td>Insert Fine Notification</td>\n",
       "      <td>Insert Fine Notification</td>\n",
       "    </tr>\n",
       "    <tr>\n",
       "      <th>2</th>\n",
       "      <td>A28905</td>\n",
       "      <td>Insert Fine Notification</td>\n",
       "      <td>0</td>\n",
       "      <td>Add penalty</td>\n",
       "      <td>Add penalty</td>\n",
       "    </tr>\n",
       "    <tr>\n",
       "      <th>3</th>\n",
       "      <td>A28905</td>\n",
       "      <td>Add penalty</td>\n",
       "      <td>5</td>\n",
       "      <td>Send for Credit Collection</td>\n",
       "      <td>Send for Credit Collection</td>\n",
       "    </tr>\n",
       "    <tr>\n",
       "      <th>4</th>\n",
       "      <td>A28905</td>\n",
       "      <td>Send for Credit Collection</td>\n",
       "      <td>0</td>\n",
       "      <td>New Case</td>\n",
       "      <td>New Case</td>\n",
       "    </tr>\n",
       "    <tr>\n",
       "      <th>...</th>\n",
       "      <td>...</td>\n",
       "      <td>...</td>\n",
       "      <td>...</td>\n",
       "      <td>...</td>\n",
       "      <td>...</td>\n",
       "    </tr>\n",
       "    <tr>\n",
       "      <th>96346</th>\n",
       "      <td>V19305</td>\n",
       "      <td>Send Appeal to Prefecture</td>\n",
       "      <td>4</td>\n",
       "      <td>New Case</td>\n",
       "      <td>New Case</td>\n",
       "    </tr>\n",
       "    <tr>\n",
       "      <th>96347</th>\n",
       "      <td>V19308</td>\n",
       "      <td>Create Fine</td>\n",
       "      <td>6</td>\n",
       "      <td>Send Fine</td>\n",
       "      <td>Send Fine</td>\n",
       "    </tr>\n",
       "    <tr>\n",
       "      <th>96348</th>\n",
       "      <td>V19308</td>\n",
       "      <td>Send Fine</td>\n",
       "      <td>0</td>\n",
       "      <td>Insert Fine Notification</td>\n",
       "      <td>Insert Fine Notification</td>\n",
       "    </tr>\n",
       "    <tr>\n",
       "      <th>96349</th>\n",
       "      <td>V19308</td>\n",
       "      <td>Insert Fine Notification</td>\n",
       "      <td>4</td>\n",
       "      <td>Add penalty</td>\n",
       "      <td>Add penalty</td>\n",
       "    </tr>\n",
       "    <tr>\n",
       "      <th>96350</th>\n",
       "      <td>V19308</td>\n",
       "      <td>Add penalty</td>\n",
       "      <td>1</td>\n",
       "      <td>New Case</td>\n",
       "      <td>Send for Credit Collection</td>\n",
       "    </tr>\n",
       "  </tbody>\n",
       "</table>\n",
       "<p>96351 rows × 5 columns</p>\n",
       "</div>"
      ],
      "text/plain": [
       "      Case_ID                  Event_Name  TimeStamp  \\\n",
       "0      A28905                 Create Fine          4   \n",
       "1      A28905                   Send Fine          1   \n",
       "2      A28905    Insert Fine Notification          0   \n",
       "3      A28905                 Add penalty          5   \n",
       "4      A28905  Send for Credit Collection          0   \n",
       "...       ...                         ...        ...   \n",
       "96346  V19305   Send Appeal to Prefecture          4   \n",
       "96347  V19308                 Create Fine          6   \n",
       "96348  V19308                   Send Fine          0   \n",
       "96349  V19308    Insert Fine Notification          4   \n",
       "96350  V19308                 Add penalty          1   \n",
       "\n",
       "                       Next_Event             Predicted_Event  \n",
       "0                       Send Fine                   Send Fine  \n",
       "1        Insert Fine Notification    Insert Fine Notification  \n",
       "2                     Add penalty                 Add penalty  \n",
       "3      Send for Credit Collection  Send for Credit Collection  \n",
       "4                        New Case                    New Case  \n",
       "...                           ...                         ...  \n",
       "96346                    New Case                    New Case  \n",
       "96347                   Send Fine                   Send Fine  \n",
       "96348    Insert Fine Notification    Insert Fine Notification  \n",
       "96349                 Add penalty                 Add penalty  \n",
       "96350                    New Case  Send for Credit Collection  \n",
       "\n",
       "[96351 rows x 5 columns]"
      ]
     },
     "execution_count": 76,
     "metadata": {},
     "output_type": "execute_result"
    }
   ],
   "source": [
    "predicted_df"
   ]
  },
  {
   "cell_type": "markdown",
   "metadata": {},
   "source": [
    "# Linear Regression "
   ]
  },
  {
   "cell_type": "markdown",
   "metadata": {},
   "source": [
    "Train Data Preprocessing"
   ]
  },
  {
   "cell_type": "code",
   "execution_count": null,
   "metadata": {},
   "outputs": [],
   "source": [
    "#Add new useful columns for the model train\n",
    "train['position_event']=train.groupby('case concept:name').cumcount()\n",
    "train['position_event']=train['position_event']+1\n",
    "train['week_day']=train['event time:timestamp'].dt.dayofweek"
   ]
  },
  {
   "cell_type": "code",
   "execution_count": null,
   "metadata": {},
   "outputs": [],
   "source": [
    "#Encoding all event names into integers\n",
    "cases = train['event concept:name'].unique().tolist()\n",
    "cases.insert(0, 'New Case')\n",
    "le_case = preprocessing.LabelEncoder()\n",
    "le_case.fit(cases)"
   ]
  },
  {
   "cell_type": "code",
   "execution_count": null,
   "metadata": {},
   "outputs": [],
   "source": [
    "#Encoding lifecycle into integers\n",
    "life = train['event lifecycle:transition'].unique().tolist()\n",
    "le_life = preprocessing.LabelEncoder()\n",
    "le_life.fit(life)"
   ]
  },
  {
   "cell_type": "code",
   "execution_count": null,
   "metadata": {},
   "outputs": [],
   "source": [
    "#Preprocess data for model train\n",
    "#Event poistion\n",
    "x_train_position = np.array(train['position_event']).reshape(-1,1)[:]\n",
    "#Previous event\n",
    "x_train_prev = list(train['event concept:name'])\n",
    "x_train_prev= le_case.transform(x_train_prev)\n",
    "x_train_prev = np.array(x_train_prev).reshape(-1,1)[:]\n",
    "# Event\n",
    "x_train_event = list(train['event concept:name'])\n",
    "x_train_event.insert(len(train), 'New Case')\n",
    "x_train_event= le_case.transform(x_train_event)\n",
    "x_train_event = np.array(x_train_event).reshape(-1,1)[1:]\n",
    "#Day of the week previous event event\n",
    "x_train_week = list(train['week_day'])\n",
    "x_train_week = np.array(x_train_week).reshape(-1,1)[:]\n",
    "#Timestamp event\n",
    "train[['event time:timestamp']] = train[['event time:timestamp']].astype(str)\n",
    "x_train_date = list(train['event time:timestamp'])\n",
    "x_train_date.insert(len(train), None)\n",
    "x_train_date=np.array(x_train_date).reshape(-1,1)[1:]\n",
    "#Timestamp previous event\n",
    "x_train_date_prev = list(train['event time:timestamp'])\n",
    "x_train_date_prev=np.array(x_train_date_prev).reshape(-1,1)[:]\n",
    "#Event Lifecycle\n",
    "x_train_life = list(train['event lifecycle:transition'])\n",
    "x_train_life= le_life.transform(x_train_life)\n",
    "x_train_life = np.array(x_train_life).reshape(-1,1)[:]"
   ]
  },
  {
   "cell_type": "code",
   "execution_count": null,
   "metadata": {},
   "outputs": [],
   "source": [
    "#Length case for train set\n",
    "cases = train.groupby(['case concept:name'])\n",
    "per_case = pd.DataFrame({'no of events':cases['eventID '].count()})\n",
    "lst_per_case = per_case[\"no of events\"].tolist()\n",
    "case_length = []\n",
    "for length in lst_per_case:\n",
    "    case_length.extend(repeat(length, length))\n",
    "x_train_length_case=np.array(case_length).reshape(-1,1)[:]"
   ]
  },
  {
   "cell_type": "code",
   "execution_count": null,
   "metadata": {},
   "outputs": [],
   "source": [
    "#Combine features for the model train\n",
    "x_train_new = np.concatenate((x_train_position,x_train_prev, x_train_event, x_train_week, x_train_date, x_train_date_prev, x_train_length_case, x_train_life), axis=1)"
   ]
  },
  {
   "cell_type": "code",
   "execution_count": null,
   "metadata": {},
   "outputs": [],
   "source": [
    "#Add features to new dataframe train\n",
    "df_train = pd.DataFrame(data=x_train_new, columns=['position_event', 'prev_event', 'event', 'week_day_prev', 'date', 'date_prev', 'case_length', 'lifecycle'])\n",
    "df_train.loc[df_train['position_event'] == df_train['case_length'], 'event'] = 5\n",
    "df_train[['date','date_prev']] = df_train[['date','date_prev']].apply(pd.to_datetime)\n",
    "df_train.loc[df_train['event'] == 5, 'date'] = None\n",
    "df_train['in_between'] = (df_train['date'] - df_train['date_prev']).dt.days\n",
    "df_train.loc[df_train['event'] == 5, 'in_between'] = 0\n",
    "df_train"
   ]
  },
  {
   "cell_type": "markdown",
   "metadata": {},
   "source": [
    "Train Dummies"
   ]
  },
  {
   "cell_type": "code",
   "execution_count": null,
   "metadata": {},
   "outputs": [],
   "source": [
    "#Implementing dummies train\n",
    "df_train=pd.get_dummies(df_train, columns=['event', 'prev_event', 'week_day_prev', 'position_event', 'lifecycle'])\n",
    "df_train = df_train.drop(['date', 'date_prev'], 1)\n",
    "df_train"
   ]
  },
  {
   "cell_type": "markdown",
   "metadata": {},
   "source": [
    "Test Data Preprocessing"
   ]
  },
  {
   "cell_type": "code",
   "execution_count": null,
   "metadata": {},
   "outputs": [],
   "source": [
    "#Add new useful columns for the model test\n",
    "test['position_event']=test.groupby('case concept:name').cumcount()\n",
    "test['position_event']=test['position_event']+1\n",
    "test['week_day']=test['event time:timestamp'].dt.dayofweek\n",
    "predicted_events=predicted_df['Predicted_Event'][:].tolist()\n",
    "test['pred_event']=predicted_events"
   ]
  },
  {
   "cell_type": "code",
   "execution_count": null,
   "metadata": {},
   "outputs": [],
   "source": [
    "#Preprocess data for model test\n",
    "#Event poistion\n",
    "x_test_position = np.array(test['position_event']).reshape(-1,1)[:]\n",
    "#Previous event\n",
    "x_test_prev = test['event concept:name'].tolist()\n",
    "x_test_prev = le_case.transform(x_test_prev)\n",
    "x_test_prev = np.array(x_test_prev).reshape(-1,1)[:]\n",
    "#Predicted Event\n",
    "x_test_event = test['pred_event'].tolist()\n",
    "x_test_event= le_case.transform(x_test_event)\n",
    "x_test_event = np.array(x_test_event).reshape(-1,1)[:]\n",
    "#Day of the week previous event\n",
    "x_test_week = test['week_day'].tolist()\n",
    "x_test_week = np.array(x_test_week).reshape(-1,1)[:]\n",
    "#Timestamp event\n",
    "test[['event time:timestamp']] = test[['event time:timestamp']].astype(str)\n",
    "x_test_date = list(test['event time:timestamp'])\n",
    "x_test_date.insert(len(test), None)\n",
    "x_test_date=np.array(x_test_date).reshape(-1,1)[1:]\n",
    "#Timestamp previous event\n",
    "x_test_date_prev = list(test['event time:timestamp'])\n",
    "x_test_date_prev=np.array(x_test_date_prev).reshape(-1,1)[:]\n",
    "#Event Lifecycle\n",
    "x_test_life = test['event lifecycle:transition'].tolist()\n",
    "x_test_life= le_life.transform(x_test_life)\n",
    "x_test_life = np.array(x_test_life).reshape(-1,1)[:]"
   ]
  },
  {
   "cell_type": "code",
   "execution_count": null,
   "metadata": {},
   "outputs": [],
   "source": [
    "#Length case for test set\n",
    "test_cases = test.groupby(['case concept:name'])\n",
    "per_case_test = pd.DataFrame({'no of events':test_cases['eventID '].count()})\n",
    "lst_per_case_test = per_case_test[\"no of events\"].tolist()\n",
    "case_length_test = []\n",
    "for length in lst_per_case_test:\n",
    "    case_length_test.extend(repeat(length, length))\n",
    "x_test_length_case=np.array(case_length_test).reshape(-1,1)[:]"
   ]
  },
  {
   "cell_type": "code",
   "execution_count": null,
   "metadata": {},
   "outputs": [],
   "source": [
    "#Combine features for the model test\n",
    "x_test_new = np.concatenate((x_test_position ,x_test_prev, x_test_event, x_test_week, x_test_date, x_test_date_prev, x_test_length_case, x_test_life), axis=1)"
   ]
  },
  {
   "cell_type": "code",
   "execution_count": null,
   "metadata": {},
   "outputs": [],
   "source": [
    "#Add features to new dataframe test\n",
    "df_test = pd.DataFrame(data=x_test_new, columns=['position_event', 'prev_event', 'event', 'week_day_prev', 'date', 'date_prev', 'case_length', 'lifecycle'])\n",
    "df_test.loc[df_test['position_event'] == df_test['case_length'], 'date'] = None\n",
    "df_test[['date','date_prev']] = df_test[['date','date_prev']].apply(pd.to_datetime)\n",
    "df_test['in_between'] = (df_test['date'] - df_test['date_prev']).dt.days\n",
    "df_test.loc[df_test['position_event'] == df_test['case_length'], 'in_between'] = 0\n",
    "df_test"
   ]
  },
  {
   "cell_type": "code",
   "execution_count": null,
   "metadata": {},
   "outputs": [],
   "source": [
    "#Remove cases with more events than the cases in the train set\n",
    "df_test=df_test[df_test['case_length']<=max(df_train['case_length'])]\n",
    "df_test"
   ]
  },
  {
   "cell_type": "markdown",
   "metadata": {},
   "source": [
    "Test Dummies"
   ]
  },
  {
   "cell_type": "code",
   "execution_count": null,
   "metadata": {},
   "outputs": [],
   "source": [
    "#Implementing dummies test\n",
    "df_test=pd.get_dummies(df_test, columns=['event', 'prev_event', 'week_day_prev', 'position_event', 'lifecycle'])\n",
    "df_test = df_test.drop(['date', 'date_prev'], 1)\n",
    "df_test"
   ]
  },
  {
   "cell_type": "markdown",
   "metadata": {},
   "source": [
    "Feature selection and model training"
   ]
  },
  {
   "cell_type": "code",
   "execution_count": null,
   "metadata": {},
   "outputs": [],
   "source": [
    "col_train=df_train.columns\n",
    "col_test=df_test.columns\n",
    "features=set(col_train).intersection(col_test)\n",
    "features.discard('in_between')\n",
    "X_train = df_train[features] # Features\n",
    "y_train = df_train['in_between'] # Target variable\n",
    "X_test = df_test[features] # Features\n",
    "y_test = df_test['in_between'] # Target variable\n",
    "\n",
    "#Training the algorithm\n",
    "regressor = LinearRegression()  \n",
    "regressor.fit(X_train, y_train)"
   ]
  },
  {
   "cell_type": "code",
   "execution_count": null,
   "metadata": {},
   "outputs": [],
   "source": [
    "print(regressor.intercept_)\n",
    "print(regressor.coef_)"
   ]
  },
  {
   "cell_type": "markdown",
   "metadata": {},
   "source": [
    "Evaluation"
   ]
  },
  {
   "cell_type": "code",
   "execution_count": null,
   "metadata": {},
   "outputs": [],
   "source": [
    "y_pred = regressor.predict(X_test)\n",
    "df_predictions = pd.DataFrame({'Actual': y_test, 'Predicted': y_pred})\n",
    "df_predictions"
   ]
  },
  {
   "cell_type": "code",
   "execution_count": null,
   "metadata": {},
   "outputs": [],
   "source": [
    "#R-squared value for the model train\n",
    "regressor.score(X_train, y_train)"
   ]
  },
  {
   "cell_type": "code",
   "execution_count": null,
   "metadata": {},
   "outputs": [],
   "source": [
    "#R-squared value for the model test\n",
    "regressor.score(X_test, y_test)"
   ]
  },
  {
   "cell_type": "code",
   "execution_count": null,
   "metadata": {},
   "outputs": [],
   "source": [
    "#Root Mean Squared Error of the model\n",
    "rmse = sqrt(mean_squared_error(y_test, y_pred))\n",
    "rmse"
   ]
  },
  {
   "cell_type": "code",
   "execution_count": null,
   "metadata": {},
   "outputs": [],
   "source": [
    "print(\"--- %s seconds ---\" % (time.time() - start_time))"
   ]
  }
 ],
 "metadata": {
  "kernelspec": {
   "display_name": "Python 3",
   "language": "python",
   "name": "python3"
  },
  "language_info": {
   "codemirror_mode": {
    "name": "ipython",
    "version": 3
   },
   "file_extension": ".py",
   "mimetype": "text/x-python",
   "name": "python",
   "nbconvert_exporter": "python",
   "pygments_lexer": "ipython3",
   "version": "3.6.9"
  }
 },
 "nbformat": 4,
 "nbformat_minor": 2
}
