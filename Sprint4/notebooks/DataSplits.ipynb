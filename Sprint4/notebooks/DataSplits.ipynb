{
 "cells": [
  {
   "cell_type": "code",
   "execution_count": 9,
   "metadata": {
    "ExecuteTime": {
     "end_time": "2020-03-30T10:19:32.582878Z",
     "start_time": "2020-03-30T10:19:32.576895Z"
    }
   },
   "outputs": [
    {
     "data": {
      "text/plain": [
       "'C:\\\\Users\\\\Asus S\\\\sakce_git\\\\process\\\\Sprint4'"
      ]
     },
     "execution_count": 9,
     "metadata": {},
     "output_type": "execute_result"
    }
   ],
   "source": [
    "import pandas as pd\n",
    "import os\n",
    "os.chdir('C:\\\\Users\\\\Asus S\\\\sakce_git\\\\process\\\\Sprint4')\n",
    "os.getcwd()"
   ]
  },
  {
   "cell_type": "code",
   "execution_count": 43,
   "metadata": {
    "ExecuteTime": {
     "end_time": "2020-03-30T10:47:16.595866Z",
     "start_time": "2020-03-30T10:47:16.584897Z"
    }
   },
   "outputs": [],
   "source": [
    "def data_splits(train_path, test_path, splits:list):\n",
    "    \n",
    "    df2_train = pd.read_csv('./data/road-train.csv')\n",
    "    df2_test = pd.read_csv('./data/road-test.csv')\n",
    "    \n",
    "    df2_train['event time:timestamp'] = pd.to_datetime(df2_train['event time:timestamp'])\n",
    "    df2_test['event time:timestamp'] = pd.to_datetime(df2_test['event time:timestamp'])\n",
    "    \n",
    "    df = pd.concat([df2_train, df2_test])\n",
    "    \n",
    "    del df2_train, df2_test\n",
    "    \n",
    "    df = df.sort_values(by=['event time:timestamp'])\n",
    "    df = df.reset_index(drop=True)\n",
    "    \n",
    "    df_cases_first_event = df.drop_duplicates(subset='case concept:name', keep='first')\n",
    "    df_cases_first_event = df_cases_first_event.reset_index(drop=True)\n",
    "    \n",
    "    for i in splits:\n",
    "        df_curr = df_cases_first_event.loc[:(int(i * len(df['case concept:name'].unique())))]\n",
    "        \n",
    "        index80 = int(len(df_curr) * 80 / 100 - 1)\n",
    "        df_cases_train = df_curr.loc[:index80]\n",
    "        df_cases_test = df_curr.loc[index80 + 1:]\n",
    "        \n",
    "        df_train_new = df.loc[df['case concept:name'].isin(list(df_cases_train['case concept:name']))]\n",
    "        df_test_new = df.loc[df['case concept:name'].isin(list(df_cases_test['case concept:name']))]\n",
    "        \n",
    "        now = pd.Timestamp('2011-12-12')\n",
    "\n",
    "        df_train_new_now = df_train_new.loc[(df_train_new['event time:timestamp'] <= now)]\n",
    "        df_test_new_now = df_test_new.loc[(df_test_new['event time:timestamp'] <= now)]\n",
    "        \n",
    "        df_train_new_now.to_csv('./data/road_train_{}.csv'.format(str(i)), index = False)\n",
    "        df_test_new_now.to_csv('./data/road_test_{}.csv'.format(str(i)), index = False)\n",
    "     \n",
    "    \n",
    "    return print(\"Done.\")"
   ]
  },
  {
   "cell_type": "code",
   "execution_count": 44,
   "metadata": {
    "ExecuteTime": {
     "end_time": "2020-03-30T10:47:30.232066Z",
     "start_time": "2020-03-30T10:47:17.395976Z"
    }
   },
   "outputs": [
    {
     "name": "stdout",
     "output_type": "stream",
     "text": [
      "Done.\n"
     ]
    }
   ],
   "source": [
    "data_splits('./data/road-train.csv', './data/road-test.csv', [0.2, 0.4, 0.6, 0.8])"
   ]
  },
  {
   "cell_type": "code",
   "execution_count": null,
   "metadata": {},
   "outputs": [],
   "source": []
  }
 ],
 "metadata": {
  "kernelspec": {
   "display_name": "Python 3",
   "language": "python",
   "name": "python3"
  },
  "language_info": {
   "codemirror_mode": {
    "name": "ipython",
    "version": 3
   },
   "file_extension": ".py",
   "mimetype": "text/x-python",
   "name": "python",
   "nbconvert_exporter": "python",
   "pygments_lexer": "ipython3",
   "version": "3.7.3"
  },
  "varInspector": {
   "cols": {
    "lenName": 16,
    "lenType": 16,
    "lenVar": 40
   },
   "kernels_config": {
    "python": {
     "delete_cmd_postfix": "",
     "delete_cmd_prefix": "del ",
     "library": "var_list.py",
     "varRefreshCmd": "print(var_dic_list())"
    },
    "r": {
     "delete_cmd_postfix": ") ",
     "delete_cmd_prefix": "rm(",
     "library": "var_list.r",
     "varRefreshCmd": "cat(var_dic_list()) "
    }
   },
   "types_to_exclude": [
    "module",
    "function",
    "builtin_function_or_method",
    "instance",
    "_Feature"
   ],
   "window_display": true
  }
 },
 "nbformat": 4,
 "nbformat_minor": 4
}
